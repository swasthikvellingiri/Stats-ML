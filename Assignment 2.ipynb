{
 "cells": [
  {
   "cell_type": "markdown",
   "id": "04919a30",
   "metadata": {},
   "source": [
    "# STATISTICAL AND MACHINE LEARNING APPROCHES FOR MARKETING"
   ]
  },
  {
   "cell_type": "markdown",
   "id": "ef4c573b",
   "metadata": {},
   "source": [
    "# Assignment 2 by Swasthik Vellingiri Kowsalya"
   ]
  },
  {
   "cell_type": "markdown",
   "id": "550d8400",
   "metadata": {},
   "source": [
    "**Question: 6**"
   ]
  },
  {
   "cell_type": "markdown",
   "id": "65cfdb01",
   "metadata": {},
   "source": [
    "(a) Estimate the probability that a student who studies for 40 hr and has an undergrad GPA of 3.5 gets an A in the class.\n",
    "\n",
    "p(X) =  (e−6 + 0.05 * X1 + X2)/(1 + e−6 + 0.05 * X1 + X2)\n",
    "\n",
    "p(X) =  (e−6 + 0.05 * 40 + 3.5)/(1 + e−6 + 0.05 * 40 + 3.5) = 0.37 "
   ]
  },
  {
   "cell_type": "markdown",
   "id": "ba8e0062",
   "metadata": {},
   "source": [
    "(b) e−6 + 0.05 * X1 + 3.5 (1 + e−6 + 0.05 * X1 + 3.5) = 0.50\n",
    "\n",
    "X1 = 50"
   ]
  },
  {
   "cell_type": "markdown",
   "id": "2bff23fc",
   "metadata": {},
   "source": [
    "**Question: 8**"
   ]
  },
  {
   "cell_type": "markdown",
   "id": "e10ec205",
   "metadata": {},
   "source": [
    "For K=1, KNN model, the training error rate is 0%. Hence the average error mentioned in the question 18% means the error rate of the test set is 36%. So logistic regression is better as it has lesser test error rate. "
   ]
  },
  {
   "cell_type": "markdown",
   "id": "2cdfd9f9",
   "metadata": {},
   "source": [
    "**Question: 9**"
   ]
  },
  {
   "cell_type": "markdown",
   "id": "d70b6c87",
   "metadata": {},
   "source": [
    "p(X)/(1−p(X))=0.37\n",
    " \n",
    "p(X)=0.37/(1+0.37)= 0.37/1.37 = 0.2700"
   ]
  },
  {
   "cell_type": "markdown",
   "id": "f3209546",
   "metadata": {},
   "source": [
    "**Question: 10** - A"
   ]
  },
  {
   "cell_type": "code",
   "execution_count": 3,
   "id": "bf8ef258",
   "metadata": {},
   "outputs": [
    {
     "name": "stdout",
     "output_type": "stream",
     "text": [
      "\n",
      "  There is a binary version available but the source version is later:\n",
      "     binary source needs_compilation\n",
      "ISLR    1.2    1.4             FALSE\n",
      "\n"
     ]
    },
    {
     "name": "stderr",
     "output_type": "stream",
     "text": [
      "installing the source package 'ISLR'\n",
      "\n"
     ]
    }
   ],
   "source": [
    "install.packages(\"ISLR\")"
   ]
  },
  {
   "cell_type": "code",
   "execution_count": 4,
   "id": "bd0ff2aa",
   "metadata": {},
   "outputs": [
    {
     "data": {
      "text/plain": [
       "      Year           Lag1               Lag2               Lag3         \n",
       " Min.   :1990   Min.   :-18.1950   Min.   :-18.1950   Min.   :-18.1950  \n",
       " 1st Qu.:1995   1st Qu.: -1.1540   1st Qu.: -1.1540   1st Qu.: -1.1580  \n",
       " Median :2000   Median :  0.2410   Median :  0.2410   Median :  0.2410  \n",
       " Mean   :2000   Mean   :  0.1506   Mean   :  0.1511   Mean   :  0.1472  \n",
       " 3rd Qu.:2005   3rd Qu.:  1.4050   3rd Qu.:  1.4090   3rd Qu.:  1.4090  \n",
       " Max.   :2010   Max.   : 12.0260   Max.   : 12.0260   Max.   : 12.0260  \n",
       "      Lag4               Lag5              Volume            Today         \n",
       " Min.   :-18.1950   Min.   :-18.1950   Min.   :0.08747   Min.   :-18.1950  \n",
       " 1st Qu.: -1.1580   1st Qu.: -1.1660   1st Qu.:0.33202   1st Qu.: -1.1540  \n",
       " Median :  0.2380   Median :  0.2340   Median :1.00268   Median :  0.2410  \n",
       " Mean   :  0.1458   Mean   :  0.1399   Mean   :1.57462   Mean   :  0.1499  \n",
       " 3rd Qu.:  1.4090   3rd Qu.:  1.4050   3rd Qu.:2.05373   3rd Qu.:  1.4050  \n",
       " Max.   : 12.0260   Max.   : 12.0260   Max.   :9.32821   Max.   : 12.0260  \n",
       " Direction \n",
       " Down:484  \n",
       " Up  :605  \n",
       "           \n",
       "           \n",
       "           \n",
       "           "
      ]
     },
     "metadata": {},
     "output_type": "display_data"
    }
   ],
   "source": [
    "library(ISLR)\n",
    "summary(Weekly)"
   ]
  },
  {
   "cell_type": "code",
   "execution_count": 5,
   "id": "b3768827",
   "metadata": {},
   "outputs": [
    {
     "data": {
      "image/png": "[encoded data removed]",
      "text/plain": [
       "plot without title"
      ]
     },
     "metadata": {},
     "output_type": "display_data"
    }
   ],
   "source": [
    "attach(Weekly)\n",
    "plot(Volume)"
   ]
  },
  {
   "cell_type": "markdown",
   "id": "54b1208c",
   "metadata": {},
   "source": [
    "**10 - B**"
   ]
  },
  {
   "cell_type": "code",
   "execution_count": 6,
   "id": "24efb011",
   "metadata": {},
   "outputs": [
    {
     "data": {
      "text/plain": [
       "\n",
       "Call:\n",
       "glm(formula = Direction ~ Lag1 + Lag2 + Lag3 + Lag4 + Lag5 + \n",
       "    Volume, family = binomial, data = Weekly)\n",
       "\n",
       "Deviance Residuals: \n",
       "    Min       1Q   Median       3Q      Max  \n",
       "-1.6949  -1.2565   0.9913   1.0849   1.4579  \n",
       "\n",
       "Coefficients:\n",
       "            Estimate Std. Error z value Pr(>|z|)   \n",
       "(Intercept)  0.26686    0.08593   3.106   0.0019 **\n",
       "Lag1        -0.04127    0.02641  -1.563   0.1181   \n",
       "Lag2         0.05844    0.02686   2.175   0.0296 * \n",
       "Lag3        -0.01606    0.02666  -0.602   0.5469   \n",
       "Lag4        -0.02779    0.02646  -1.050   0.2937   \n",
       "Lag5        -0.01447    0.02638  -0.549   0.5833   \n",
       "Volume      -0.02274    0.03690  -0.616   0.5377   \n",
       "---\n",
       "Signif. codes:  0 '***' 0.001 '**' 0.01 '*' 0.05 '.' 0.1 ' ' 1\n",
       "\n",
       "(Dispersion parameter for binomial family taken to be 1)\n",
       "\n",
       "    Null deviance: 1496.2  on 1088  degrees of freedom\n",
       "Residual deviance: 1486.4  on 1082  degrees of freedom\n",
       "AIC: 1500.4\n",
       "\n",
       "Number of Fisher Scoring iterations: 4\n"
      ]
     },
     "metadata": {},
     "output_type": "display_data"
    }
   ],
   "source": [
    "glm_model <- glm(Direction ~ Lag1 + Lag2 + Lag3 + Lag4 + Lag5 + Volume, data = Weekly, family = binomial)\n",
    "summary(glm_model)"
   ]
  },
  {
   "cell_type": "markdown",
   "id": "24d550a0",
   "metadata": {},
   "source": [
    "**10 - C**"
   ]
  },
  {
   "cell_type": "code",
   "execution_count": 8,
   "id": "ffd060f8",
   "metadata": {},
   "outputs": [
    {
     "data": {
      "text/plain": [
       "        Direction\n",
       "glm_pred Down  Up\n",
       "    Down   54  48\n",
       "    Up    430 557"
      ]
     },
     "metadata": {},
     "output_type": "display_data"
    }
   ],
   "source": [
    "threshold <- 0.5\n",
    "probs <- predict(glm_model, type = \"response\")\n",
    "glm_pred <- rep(\"Down\", length(probs))\n",
    "glm_pred[probs > threshold] <- \"Up\"\n",
    "table(glm_pred, Direction)"
   ]
  },
  {
   "cell_type": "markdown",
   "id": "d3536b73",
   "metadata": {},
   "source": [
    "**10 - D**"
   ]
  },
  {
   "cell_type": "code",
   "execution_count": 12,
   "id": "dc01f46f",
   "metadata": {},
   "outputs": [
    {
     "data": {
      "text/plain": [
       "\n",
       "Call:\n",
       "glm(formula = Direction ~ Lag2, family = binomial, data = Weekly_, \n",
       "    subset = train)\n",
       "\n",
       "Deviance Residuals: \n",
       "    Min       1Q   Median       3Q      Max  \n",
       "-1.5767  -1.3052   0.9242   1.0419   1.2978  \n",
       "\n",
       "Coefficients:\n",
       "            Estimate Std. Error z value Pr(>|z|)\n",
       "(Intercept)  0.32377    0.20136   1.608    0.108\n",
       "Lag2         0.08562    0.06707   1.277    0.202\n",
       "\n",
       "(Dispersion parameter for binomial family taken to be 1)\n",
       "\n",
       "    Null deviance: 141.04  on 103  degrees of freedom\n",
       "Residual deviance: 139.37  on 102  degrees of freedom\n",
       "  (881 observations deleted due to missingness)\n",
       "AIC: 143.37\n",
       "\n",
       "Number of Fisher Scoring iterations: 4\n"
      ]
     },
     "metadata": {},
     "output_type": "display_data"
    }
   ],
   "source": [
    "Weekly_ <- Weekly[!(Year < 2009), ]\n",
    "\n",
    "glm_model2 <- glm(Direction ~ Lag2, data = Weekly_, family = binomial, subset = train)\n",
    "summary(glm_model2)"
   ]
  },
  {
   "cell_type": "code",
   "execution_count": 13,
   "id": "364b1d2a",
   "metadata": {},
   "outputs": [
    {
     "data": {
      "text/plain": [
       "          Direction\n",
       "glm_model2 Down  Up\n",
       "      Down   26  24\n",
       "      Up    458 581"
      ]
     },
     "metadata": {},
     "output_type": "display_data"
    }
   ],
   "source": [
    "probs2 <- predict(glm_model2, Weekly, type = \"response\")\n",
    "glm_model2 <- rep(\"Down\", length(probs2))\n",
    "glm_model2[probs2 > 0.5] <- \"Up\"\n",
    "table(glm_model2, Direction)"
   ]
  },
  {
   "cell_type": "markdown",
   "id": "6a60e576",
   "metadata": {},
   "source": [
    "**10 - E**"
   ]
  },
  {
   "cell_type": "code",
   "execution_count": 17,
   "id": "0cf54f44",
   "metadata": {},
   "outputs": [
    {
     "data": {
      "text/plain": [
       "      Direction\n",
       "       Down  Up\n",
       "  Down   25  23\n",
       "  Up    459 582"
      ]
     },
     "metadata": {},
     "output_type": "display_data"
    }
   ],
   "source": [
    "#LDA\n",
    "\n",
    "library(MASS)\n",
    "model_lda <- lda(Direction ~ Lag2, data = Weekly_, subset = train)\n",
    "\n",
    "predi_lda <- predict(model_lda, Weekly)\n",
    "table(predi_lda$class, Direction)"
   ]
  },
  {
   "cell_type": "markdown",
   "id": "e266f218",
   "metadata": {},
   "source": [
    "**10 - F**"
   ]
  },
  {
   "cell_type": "code",
   "execution_count": 19,
   "id": "f7759e54",
   "metadata": {},
   "outputs": [
    {
     "data": {
      "text/plain": [
       "      Direction\n",
       "       Down  Up\n",
       "  Down   30  24\n",
       "  Up    454 581"
      ]
     },
     "metadata": {},
     "output_type": "display_data"
    }
   ],
   "source": [
    "#QDA\n",
    "\n",
    "model_qda <- qda(Direction ~ Lag2, data = Weekly_, subset = train)\n",
    "pred_qda <- predict(model_qda, Weekly)\n",
    "table(pred_qda$class, Direction)\n"
   ]
  },
  {
   "cell_type": "markdown",
   "id": "91085eda",
   "metadata": {},
   "source": [
    "**10 - G**"
   ]
  },
  {
   "cell_type": "code",
   "execution_count": 25,
   "id": "cb78acf0",
   "metadata": {},
   "outputs": [
    {
     "ename": "ERROR",
     "evalue": "Error in knn(knn_train, knn_test, knn_direction, k = 1): dims of 'test' and 'train' differ\n",
     "output_type": "error",
     "traceback": [
      "Error in knn(knn_train, knn_test, knn_direction, k = 1): dims of 'test' and 'train' differ\nTraceback:\n",
      "1. knn(knn_train, knn_test, knn_direction, k = 1)",
      "2. stop(\"dims of 'test' and 'train' differ\")"
     ]
    }
   ],
   "source": [
    "knn_train <- Lag2[(Year < 2009)]\n",
    "knn_test <- Lag2[!(Year < 2009)]\n",
    "knn_direction <- Direction[(Year < 2009)]\n",
    "knn_prediction <- knn(knn_train, knn_test, knn_direction, k = 1)\n",
    "table(knn_prediction, knn_direction)"
   ]
  },
  {
   "cell_type": "code",
   "execution_count": null,
   "id": "2653dd22",
   "metadata": {},
   "outputs": [],
   "source": []
  }
 ],
 "metadata": {
  "kernelspec": {
   "display_name": "R",
   "language": "R",
   "name": "ir"
  },
  "language_info": {
   "codemirror_mode": "r",
   "file_extension": ".r",
   "mimetype": "text/x-r-source",
   "name": "R",
   "pygments_lexer": "r",
   "version": "3.6.1"
  }
 },
 "nbformat": 4,
 "nbformat_minor": 5
}
