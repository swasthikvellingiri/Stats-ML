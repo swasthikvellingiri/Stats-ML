{
 "cells": [
  {
   "cell_type": "markdown",
   "id": "b266be14",
   "metadata": {},
   "source": [
    "# Statistics and Machine Learning Assignment\n",
    "\n",
    "By \n",
    "Swasthik Vellingiri Kowsalya"
   ]
  },
  {
   "cell_type": "markdown",
   "id": "4ff98b0e",
   "metadata": {},
   "source": [
    "\n",
    "# Chapter 5 "
   ]
  },
  {
   "cell_type": "markdown",
   "id": "5683c83f",
   "metadata": {},
   "source": [
    "## Question: 3"
   ]
  },
  {
   "cell_type": "markdown",
   "id": "bc346611",
   "metadata": {},
   "source": [
    "The k-fold cross validation procedure consists of randomly dividing the set of observations into k folds of approximately equal size. \n",
    "\n",
    "(i) Validation Set\n",
    "Advantages over Validation Set: Using multiple train-test splits provides a better understanding of how your model will perform on unseen data than using one train test split. \n",
    "Disadvantages: k-fold cross validation takes more time and computational power when compared to validation set approach.  \n",
    "\n",
    "(ii) LOOCV\n",
    "\n",
    "Advantages over LOOCV: Computation time is reduced as we repeated the process only 5 times when the value of k is 5\n",
    "Disadvantages: If we implement LOOCV, we get much lesser bias than in k-fold cross validation."
   ]
  },
  {
   "cell_type": "markdown",
   "id": "9e509398",
   "metadata": {},
   "source": [
    "# Question 8"
   ]
  },
  {
   "cell_type": "markdown",
   "id": "e1b377c0",
   "metadata": {},
   "source": [
    "## 8 - (a)"
   ]
  },
  {
   "cell_type": "code",
   "execution_count": 15,
   "id": "f86415ad",
   "metadata": {},
   "outputs": [
    {
     "name": "stdout",
     "output_type": "stream",
     "text": [
      "package 'boot' successfully unpacked and MD5 sums checked\n",
      "\n",
      "The downloaded binary packages are in\n",
      "\tC:\\Users\\svellingirikowsalya\\AppData\\Local\\Temp\\RtmpQD7WNo\\downloaded_packages\n"
     ]
    }
   ],
   "source": [
    "install.packages('boot')"
   ]
  },
  {
   "cell_type": "code",
   "execution_count": 16,
   "id": "c6fbe5ba",
   "metadata": {},
   "outputs": [
    {
     "name": "stderr",
     "output_type": "stream",
     "text": [
      "Warning message:\n",
      "\"package 'boot' was built under R version 3.6.3\""
     ]
    }
   ],
   "source": [
    "library(boot)\n",
    "set.seed(1)\n",
    "y=rnorm (100)\n",
    "x=rnorm (100)\n",
    "y=x-2* x^2+ rnorm (100)"
   ]
  },
  {
   "cell_type": "markdown",
   "id": "93fc6ddb",
   "metadata": {},
   "source": [
    "n = 100\n",
    "p =  2\n",
    "\n",
    "Equation:\n",
    "\n",
    "Y = X-2X^2 + e"
   ]
  },
  {
   "cell_type": "markdown",
   "id": "84e3103c",
   "metadata": {},
   "source": [
    "## 8 - (b)"
   ]
  },
  {
   "cell_type": "code",
   "execution_count": 17,
   "id": "f20c4bd1",
   "metadata": {},
   "outputs": [
    {
     "data": {
      "image/png": "[encoded data removed]",
      "text/plain": [
       "plot without title"
      ]
     },
     "metadata": {},
     "output_type": "display_data"
    }
   ],
   "source": [
    "plot(x, y,\n",
    "     xlab = \"X\", ylab = \"Y\", frame = TRUE)"
   ]
  },
  {
   "cell_type": "markdown",
   "id": "253bbdd5",
   "metadata": {},
   "source": [
    "The data points look like a curve"
   ]
  },
  {
   "cell_type": "markdown",
   "id": "ac787fdd",
   "metadata": {},
   "source": [
    "## 8 - (c)"
   ]
  },
  {
   "cell_type": "markdown",
   "id": "b9b03581",
   "metadata": {},
   "source": [
    "Compute LOOCV \n",
    "\n",
    "(i) Y=β0+β1X+ε \n"
   ]
  },
  {
   "cell_type": "code",
   "execution_count": 39,
   "id": "b847137f",
   "metadata": {},
   "outputs": [
    {
     "name": "stdout",
     "output_type": "stream",
     "text": [
      "[1] \"Model 1: 5.89097855988842\"\n",
      "[1] \"Model 2 (poly 2): 1.0865955642745\"\n",
      "[1] \"Model 3 (poly 3): 1.10258509387339\"\n",
      "[1] \"Model 4 (poly 4): 1.11477226814507\"\n"
     ]
    }
   ],
   "source": [
    "set.seed(100)\n",
    "\n",
    "Data <- data.frame(x, y)\n",
    "\n",
    "#model 1\n",
    "model1 <- glm(y ~ x)\n",
    "\n",
    "print(paste(\"Model 1:\",cv.glm(Data, model1)$delta[1]))\n",
    "\n",
    "#model 2\n",
    "model2 <- glm(y ~ poly(x, 2))\n",
    "\n",
    "print(paste(\"Model 2 (poly 2):\",cv.glm(Data, model2)$delta[1]))\n",
    "\n",
    "#model 3\n",
    "model3 <- glm(y ~ poly(x, 3))\n",
    "\n",
    "print(paste(\"Model 3 (poly 3):\",cv.glm(Data, model3)$delta[1]))\n",
    "\n",
    "#model 4\n",
    "model4 <- glm(y ~ poly(x, 4))\n",
    "\n",
    "print(paste(\"Model 4 (poly 4):\",cv.glm(Data, model4)$delta[1]))"
   ]
  },
  {
   "cell_type": "markdown",
   "id": "df50f61c",
   "metadata": {},
   "source": [
    "## 8 - (d)"
   ]
  },
  {
   "cell_type": "code",
   "execution_count": 40,
   "id": "f0d47f8f",
   "metadata": {},
   "outputs": [
    {
     "name": "stdout",
     "output_type": "stream",
     "text": [
      "[1] \"Model 1: 5.89097855988842\"\n",
      "[1] \"Model 2 (poly 2): 1.0865955642745\"\n",
      "[1] \"Model 3 (poly 3): 1.10258509387339\"\n",
      "[1] \"Model 4 (poly 4): 1.11477226814507\"\n"
     ]
    }
   ],
   "source": [
    "set.seed(101)\n",
    "\n",
    "Data <- data.frame(x, y)\n",
    "\n",
    "#model 1\n",
    "model1 <- glm(y ~ x)\n",
    "\n",
    "print(paste(\"Model 1:\",cv.glm(Data, model1)$delta[1]))\n",
    "\n",
    "#model 2\n",
    "model2 <- glm(y ~ poly(x, 2))\n",
    "\n",
    "print(paste(\"Model 2 (poly 2):\",cv.glm(Data, model2)$delta[1]))\n",
    "\n",
    "#model 3\n",
    "model3 <- glm(y ~ poly(x, 3))\n",
    "\n",
    "print(paste(\"Model 3 (poly 3):\",cv.glm(Data, model3)$delta[1]))\n",
    "\n",
    "#model 4\n",
    "model4 <- glm(y ~ poly(x, 4))\n",
    "\n",
    "print(paste(\"Model 4 (poly 4):\",cv.glm(Data, model4)$delta[1]))"
   ]
  },
  {
   "cell_type": "markdown",
   "id": "c5a1b4cb",
   "metadata": {},
   "source": [
    "The resuls are the same. It is because the LOOCV evaluates n fold of a single observation"
   ]
  },
  {
   "cell_type": "markdown",
   "id": "fa6d2767",
   "metadata": {},
   "source": [
    "## 8 - (e)"
   ]
  },
  {
   "cell_type": "markdown",
   "id": "29bb677a",
   "metadata": {},
   "source": [
    "The model has the lowest LOOCV error because the scatter plot displayed that the datapoints are quadratic"
   ]
  },
  {
   "cell_type": "markdown",
   "id": "e60e0b3a",
   "metadata": {},
   "source": [
    "## 8 - (f)"
   ]
  },
  {
   "cell_type": "code",
   "execution_count": 42,
   "id": "ba90ade6",
   "metadata": {},
   "outputs": [
    {
     "data": {
      "text/plain": [
       "\n",
       "Call:\n",
       "glm(formula = y ~ poly(x, 4))\n",
       "\n",
       "Deviance Residuals: \n",
       "    Min       1Q   Median       3Q      Max  \n",
       "-2.8914  -0.5244   0.0749   0.5932   2.7796  \n",
       "\n",
       "Coefficients:\n",
       "            Estimate Std. Error t value Pr(>|t|)    \n",
       "(Intercept)  -1.8277     0.1041 -17.549   <2e-16 ***\n",
       "poly(x, 4)1   2.3164     1.0415   2.224   0.0285 *  \n",
       "poly(x, 4)2 -21.0586     1.0415 -20.220   <2e-16 ***\n",
       "poly(x, 4)3  -0.3048     1.0415  -0.293   0.7704    \n",
       "poly(x, 4)4  -0.4926     1.0415  -0.473   0.6373    \n",
       "---\n",
       "Signif. codes:  0 '***' 0.001 '**' 0.01 '*' 0.05 '.' 0.1 ' ' 1\n",
       "\n",
       "(Dispersion parameter for gaussian family taken to be 1.084654)\n",
       "\n",
       "    Null deviance: 552.21  on 99  degrees of freedom\n",
       "Residual deviance: 103.04  on 95  degrees of freedom\n",
       "AIC: 298.78\n",
       "\n",
       "Number of Fisher Scoring iterations: 2\n"
      ]
     },
     "metadata": {},
     "output_type": "display_data"
    }
   ],
   "source": [
    "summary(model4)"
   ]
  },
  {
   "cell_type": "markdown",
   "id": "a82e7adf",
   "metadata": {},
   "source": [
    "The p value of the models 1 and 2 are significant whereas it is not higher for models 3 and 4. Yes, these agree with the conclusion drawn based on the cross validation methods. "
   ]
  },
  {
   "cell_type": "markdown",
   "id": "1df1615d",
   "metadata": {},
   "source": [
    "# CHapter 6 "
   ]
  },
  {
   "cell_type": "markdown",
   "id": "1dc693ee",
   "metadata": {},
   "source": [
    "##  Question 1"
   ]
  },
  {
   "cell_type": "markdown",
   "id": "0558bb44",
   "metadata": {},
   "source": [
    "(a) Best subset selection\n",
    "\n",
    "(b) Best subset selection\n",
    "\n",
    "(c)\n",
    "(i) True\n",
    "(ii) True\n",
    "(iii) False\n",
    "(iv) False\n",
    "(v) True"
   ]
  },
  {
   "cell_type": "markdown",
   "id": "347cd741",
   "metadata": {},
   "source": [
    "## Question 9"
   ]
  },
  {
   "cell_type": "code",
   "execution_count": 74,
   "id": "3b8b0670",
   "metadata": {},
   "outputs": [],
   "source": [
    "library(ISLR)\n",
    "\n",
    "data(College)"
   ]
  },
  {
   "cell_type": "markdown",
   "id": "073d1852",
   "metadata": {},
   "source": [
    "## 9 - (a)"
   ]
  },
  {
   "cell_type": "code",
   "execution_count": 75,
   "id": "a2a1d361",
   "metadata": {},
   "outputs": [],
   "source": [
    "set.seed(122)\n",
    "\n",
    "train1 = sample(1:nrow(College), round(nrow(College) * 0.8))\n",
    "\n",
    "train_df = College[train1, ]\n",
    "test_df = College[-train1, ]"
   ]
  },
  {
   "cell_type": "markdown",
   "id": "e47751e1",
   "metadata": {},
   "source": [
    "## 9 - (b)"
   ]
  },
  {
   "cell_type": "code",
   "execution_count": 78,
   "id": "4c738086",
   "metadata": {},
   "outputs": [
    {
     "data": {
      "text/html": [
       "895226.136032384"
      ],
      "text/latex": [
       "895226.136032384"
      ],
      "text/markdown": [
       "895226.136032384"
      ],
      "text/plain": [
       "[1] 895226.1"
      ]
     },
     "metadata": {},
     "output_type": "display_data"
    }
   ],
   "source": [
    "lm_ = lm(Apps ~ ., data = train_df)\n",
    "lm_pred = predict(lm_, test_df)\n",
    "lm_mse = mean((lm_pred - test_df$Apps)^2)\n",
    "lm_mse"
   ]
  },
  {
   "cell_type": "markdown",
   "id": "ceb4e038",
   "metadata": {},
   "source": [
    "## 9 - (c)"
   ]
  },
  {
   "cell_type": "code",
   "execution_count": 81,
   "id": "623dbce7",
   "metadata": {},
   "outputs": [],
   "source": [
    "train_matrix = model.matrix(Apps~.,data=train_df)\n",
    "test_matrix = model.matrix(Apps~.,data=test_df)"
   ]
  },
  {
   "cell_type": "code",
   "execution_count": 85,
   "id": "880a8304",
   "metadata": {},
   "outputs": [
    {
     "name": "stderr",
     "output_type": "stream",
     "text": [
      "Warning message:\n",
      "\"package 'glmnet' was built under R version 3.6.3\"Loading required package: Matrix\n",
      "Warning message:\n",
      "\"package 'Matrix' was built under R version 3.6.3\"Loaded glmnet 4.1-1\n"
     ]
    }
   ],
   "source": [
    "library(glmnet)\n",
    "\n",
    "grid =10^ seq (10,-2, length =100)\n",
    "\n",
    "ridge_reg = glmnet (train_matrix,train_df$Apps,alpha=0, lambda =grid)"
   ]
  },
  {
   "cell_type": "code",
   "execution_count": 90,
   "id": "4e8ff95d",
   "metadata": {},
   "outputs": [],
   "source": [
    "ridge_cv = cv.glmnet(train_matrix,train_df$Apps,alpha=0,lambda=grid)\n",
    "\n",
    "ridge_lambda = ridge_cv$lambda.min"
   ]
  },
  {
   "cell_type": "code",
   "execution_count": 89,
   "id": "f45a688e",
   "metadata": {},
   "outputs": [
    {
     "data": {
      "text/html": [
       "895118.444305536"
      ],
      "text/latex": [
       "895118.444305536"
      ],
      "text/markdown": [
       "895118.444305536"
      ],
      "text/plain": [
       "[1] 895118.4"
      ]
     },
     "metadata": {},
     "output_type": "display_data"
    }
   ],
   "source": [
    "ridge_new = predict(ridge_reg,s=ridge_lambda,newx = test_matrix)\n",
    "\n",
    "#MSE\n",
    "ridge_mse = mean((test_df$Apps-ridge_new)^2)\n",
    "ridge_mse"
   ]
  },
  {
   "cell_type": "markdown",
   "id": "e0e768f2",
   "metadata": {},
   "source": [
    "The MSE for ridge is 895118.44"
   ]
  },
  {
   "cell_type": "markdown",
   "id": "867295c9",
   "metadata": {},
   "source": [
    "## 9 - (d)"
   ]
  },
  {
   "cell_type": "code",
   "execution_count": 98,
   "id": "2c5150ad",
   "metadata": {},
   "outputs": [
    {
     "data": {
      "text/html": [
       "893428.776570646"
      ],
      "text/latex": [
       "893428.776570646"
      ],
      "text/markdown": [
       "893428.776570646"
      ],
      "text/plain": [
       "[1] 893428.8"
      ]
     },
     "metadata": {},
     "output_type": "display_data"
    }
   ],
   "source": [
    "lasso_mod = glmnet(train_matrix,train_df$Apps,alpha=1,lambda=grid)\n",
    "\n",
    "lasso_cv = cv.glmnet(train_matrix,train_df$Apps,alpha=1,lambda=grid)\n",
    "\n",
    "lasso_lambda = lasso_cv$lambda.min\n",
    "\n",
    "lasso_new = predict(lasso_mod,s=lasso_lambda,newx =test_matrix)\n",
    "\n",
    "lasso_mse = mean((test_df$Apps-lasso_new)^2)\n",
    "lasso_mse"
   ]
  },
  {
   "cell_type": "markdown",
   "id": "ec519cda",
   "metadata": {},
   "source": [
    "The MSE for lasso is 893428.77"
   ]
  },
  {
   "cell_type": "code",
   "execution_count": 99,
   "id": "4b7a7cea",
   "metadata": {},
   "outputs": [
    {
     "data": {
      "text/plain": [
       "19 x 1 sparse Matrix of class \"dgCMatrix\"\n",
       "                        1\n",
       "(Intercept) -851.26853696\n",
       "(Intercept)    .         \n",
       "PrivateYes  -417.60477885\n",
       "Accept         1.61326116\n",
       "Enroll        -0.90274854\n",
       "Top10perc     51.22107980\n",
       "Top25perc    -15.79618531\n",
       "F.Undergrad    0.05008636\n",
       "P.Undergrad    0.04738403\n",
       "Outstate      -0.08993165\n",
       "Room.Board     0.17975115\n",
       "Books         -0.07252107\n",
       "Personal       0.09879977\n",
       "PhD           -8.80594013\n",
       "Terminal      -2.70114260\n",
       "S.F.Ratio     24.83610556\n",
       "perc.alumni    3.72292816\n",
       "Expend         0.08185251\n",
       "Grad.Rate      8.03586620"
      ]
     },
     "metadata": {},
     "output_type": "display_data"
    }
   ],
   "source": [
    "# coefficient\n",
    "\n",
    "predict(lasso_mod,s=lasso_lambda,type=\"coefficients\")"
   ]
  },
  {
   "cell_type": "markdown",
   "id": "eb752a9f",
   "metadata": {},
   "source": [
    "## 9 - (e)"
   ]
  },
  {
   "cell_type": "code",
   "execution_count": 101,
   "id": "4a16989a",
   "metadata": {},
   "outputs": [
    {
     "name": "stdout",
     "output_type": "stream",
     "text": [
      "\n",
      "  There is a binary version available but the source version is later:\n",
      "    binary source needs_compilation\n",
      "pls  2.7-3  2.8-0             FALSE\n",
      "\n"
     ]
    },
    {
     "name": "stderr",
     "output_type": "stream",
     "text": [
      "installing the source package 'pls'\n",
      "\n"
     ]
    }
   ],
   "source": [
    "install.packages('pls')\n",
    "library(pls)"
   ]
  },
  {
   "cell_type": "code",
   "execution_count": 113,
   "id": "2d3bcb26",
   "metadata": {},
   "outputs": [
    {
     "data": {
      "text/html": [
       "895226.136032384"
      ],
      "text/latex": [
       "895226.136032384"
      ],
      "text/markdown": [
       "895226.136032384"
      ],
      "text/plain": [
       "[1] 895226.1"
      ]
     },
     "metadata": {},
     "output_type": "display_data"
    },
    {
     "data": {
      "image/png": "[encoded data removed]",
      "text/plain": [
       "Plot with title \"Apps\""
      ]
     },
     "metadata": {},
     "output_type": "display_data"
    }
   ],
   "source": [
    "#PCR MODEL \n",
    "\n",
    "pcr_model = pcr(Apps ~., data=train_df, scale=TRUE, validation=\"CV\")\n",
    "\n",
    "validationplot(pcr_model,val.type=\"MSEP\")\n",
    "\n",
    "pcr_pred = predict(pcr_model,test_df,ncomp=17)\n",
    "\n",
    "pcr_mse = mean((test_df$Apps-pcr_pred)^2)\n",
    "pcr_mse"
   ]
  },
  {
   "cell_type": "markdown",
   "id": "17d85a50",
   "metadata": {},
   "source": [
    "The MSE value is lower when components is 17 and the MSE value is 895226.13"
   ]
  },
  {
   "cell_type": "markdown",
   "id": "ff4faa9a",
   "metadata": {},
   "source": [
    "## 9 - (f)"
   ]
  },
  {
   "cell_type": "code",
   "execution_count": 112,
   "id": "2f8b7268",
   "metadata": {},
   "outputs": [
    {
     "data": {
      "image/png": "[encoded data removed]",
      "text/plain": [
       "Plot with title \"Apps\""
      ]
     },
     "metadata": {},
     "output_type": "display_data"
    }
   ],
   "source": [
    "#PLS MODEL\n",
    "\n",
    "pls_model = plsr(Apps ~., data=train_df, scale=TRUE, validation=\"CV\")\n",
    "\n",
    "validationplot(pls_model,val.type=\"MSEP\")"
   ]
  },
  {
   "cell_type": "code",
   "execution_count": 123,
   "id": "9d3ee09f",
   "metadata": {},
   "outputs": [
    {
     "data": {
      "text/html": [
       "894843.340130317"
      ],
      "text/latex": [
       "894843.340130317"
      ],
      "text/markdown": [
       "894843.340130317"
      ],
      "text/plain": [
       "[1] 894843.3"
      ]
     },
     "metadata": {},
     "output_type": "display_data"
    }
   ],
   "source": [
    "pls_pred = predict(pls_model, test_df, ncomp=12)\n",
    "\n",
    "pls_mse = mean((test_df$Apps-pls_pred)^2)\n",
    "pls_mse"
   ]
  },
  {
   "cell_type": "markdown",
   "id": "857e319b",
   "metadata": {},
   "source": [
    "The MSE value is lower when components is 12 and the MSE value is 894843.34"
   ]
  },
  {
   "cell_type": "markdown",
   "id": "1fc3f995",
   "metadata": {},
   "source": [
    "## 9 - (g)"
   ]
  },
  {
   "cell_type": "code",
   "execution_count": 126,
   "id": "50c6a705",
   "metadata": {},
   "outputs": [
    {
     "name": "stdout",
     "output_type": "stream",
     "text": [
      "[1] \"MSE of linear model: 895226.136032384\"\n",
      "[1] \"MSE of lasso model: 893428.776570646\"\n",
      "[1] \"MSE of ridge model: 895118.444305536\"\n",
      "[1] \"MSE of pcr model: 895226.136032384\"\n",
      "[1] \"MSE of pls model: 894843.340130317\"\n"
     ]
    }
   ],
   "source": [
    "print(paste(\"MSE of linear model:\",lm_mse))\n",
    "print(paste(\"MSE of lasso model:\",lasso_mse))\n",
    "print(paste(\"MSE of ridge model:\",ridge_mse))\n",
    "print(paste(\"MSE of pcr model:\",pcr_mse))\n",
    "print(paste(\"MSE of pls model:\",pls_mse))"
   ]
  },
  {
   "cell_type": "markdown",
   "id": "c076f216",
   "metadata": {},
   "source": [
    "The MSE of lasso model is the lowest. All the models are closer and there is not a big difference in the errors. "
   ]
  },
  {
   "cell_type": "markdown",
   "id": "af6cecff",
   "metadata": {},
   "source": [
    "# Chapter - 7"
   ]
  },
  {
   "cell_type": "markdown",
   "id": "752a8e20",
   "metadata": {},
   "source": [
    "## Question - 9"
   ]
  },
  {
   "cell_type": "markdown",
   "id": "5e59ba3c",
   "metadata": {},
   "source": [
    "## 9 - (a)"
   ]
  },
  {
   "cell_type": "code",
   "execution_count": 133,
   "id": "6c06fe9d",
   "metadata": {},
   "outputs": [],
   "source": [
    "library(MASS)"
   ]
  },
  {
   "cell_type": "code",
   "execution_count": 158,
   "id": "a5cd7c22",
   "metadata": {},
   "outputs": [
    {
     "data": {
      "image/png": "[encoded data removed]",
      "text/plain": [
       "plot without title"
      ]
     },
     "metadata": {},
     "output_type": "display_data"
    }
   ],
   "source": [
    "model <- lm(medv ~ poly(dis, 3, raw = T), data = Boston)\n",
    "\n",
    "ggplot(Boston, aes(x = dis, y = medv)) + geom_point() + \n",
    "  geom_smooth(method = \"lm\", formula = \"y ~ poly(x, 3, raw = T)\") "
   ]
  },
  {
   "cell_type": "markdown",
   "id": "28b969e2",
   "metadata": {},
   "source": [
    "## 9 - (b)"
   ]
  },
  {
   "cell_type": "code",
   "execution_count": 159,
   "id": "c351ba6d",
   "metadata": {},
   "outputs": [
    {
     "data": {
      "image/png": "[encoded data removed]",
      "text/plain": [
       "plot without title"
      ]
     },
     "metadata": {},
     "output_type": "display_data"
    }
   ],
   "source": [
    "library(gridExtra)\n",
    "library(grid)\n",
    "library(ggplot2)\n",
    "library(lattice)\n",
    "\n",
    "ggp <- ggplot(Boston, aes(dis, medv)) + geom_point()\n",
    "\n",
    "#Polynomial plots\n",
    "\n",
    "p1 = ggp + stat_smooth(method = \"lm\", formula = y ~ poly(x, 1)) + labs(title = \"Polynomial Degree 1\")\n",
    "p2 = ggp + stat_smooth(method = \"lm\", formula = y ~ poly(x, 2)) + labs(title = \"Polynomial Degree 2\")\n",
    "p3 = ggp + stat_smooth(method = \"lm\", formula = y ~ poly(x, 3)) + labs(title = \"Polynomial Degree 3\")\n",
    "p4 = ggp + stat_smooth(method = \"lm\", formula = y ~ poly(x, 4)) + labs(title = \"Polynomial Degree 4\")\n",
    "p5 = ggp + stat_smooth(method = \"lm\", formula = y ~ poly(x, 5)) + labs(title = \"Polynomial Degree 5\")\n",
    "p6 = ggp + stat_smooth(method = \"lm\", formula = y ~ poly(x, 6)) + labs(title = \"Polynomial Degree 6\")\n",
    "p7 = ggp + stat_smooth(method = \"lm\", formula = y ~ poly(x, 7)) + labs(title = \"Polynomial Degree 7\")\n",
    "p8 = ggp + stat_smooth(method = \"lm\", formula = y ~ poly(x, 8)) + labs(title = \"Polynomial Degree 8\")\n",
    "p9 = ggp + stat_smooth(method = \"lm\", formula = y ~ poly(x, 9)) + labs(title = \"Polynomial Degree 9\")\n",
    "p10 = ggp + stat_smooth(method = \"lm\", formula = y ~ poly(x, 10)) + labs(title = \"Polynomial Degree 10\")\n",
    "\n",
    "\n",
    "\n",
    "\n",
    "grid.arrange(p1, p2, p3, p4, p5, p6, p7, p8, p9, p10, ncol = 3)"
   ]
  },
  {
   "cell_type": "code",
   "execution_count": 170,
   "id": "39c2866f",
   "metadata": {},
   "outputs": [
    {
     "name": "stdout",
     "output_type": "stream",
     "text": [
      "[1] \"MSE value for Polynomial  1  is  79.1463415860711\"\n",
      "[1] \"MSE value for Polynomial  2  is  76.3544518023521\"\n",
      "[1] \"MSE value for Polynomial  3  is  75.5534536644515\"\n",
      "[1] \"MSE value for Polynomial  4  is  75.5508974878801\"\n",
      "[1] \"MSE value for Polynomial  5  is  75.4853056231394\"\n",
      "[1] \"MSE value for Polynomial  6  is  74.2130245486022\"\n",
      "[1] \"MSE value for Polynomial  7  is  73.3686635484402\"\n",
      "[1] \"MSE value for Polynomial  8  is  70.5688164823019\"\n",
      "[1] \"MSE value for Polynomial  9  is  69.8008138199717\"\n",
      "[1] \"MSE value for Polynomial  10  is  69.8002290107115\"\n"
     ]
    }
   ],
   "source": [
    "#Finding MSE\n",
    "\n",
    "mse_ = c()\n",
    "\n",
    "for (i in 1:10) {\n",
    "    x = lm(medv ~ poly(dis, i, raw = T), data = Boston)\n",
    "    mse_[i] = mean(x$residuals^2)\n",
    "    print(paste(\"MSE value for Polynomial \",i,\" is \", mse_[i]))\n",
    "}\n"
   ]
  },
  {
   "cell_type": "code",
   "execution_count": 157,
   "id": "9b04373d",
   "metadata": {},
   "outputs": [
    {
     "ename": "ERROR",
     "evalue": "Error in train(y = Boston$nox, x = poly(Boston$dis, i, raw = T, simple = T), : could not find function \"train\"\n",
     "output_type": "error",
     "traceback": [
      "Error in train(y = Boston$nox, x = poly(Boston$dis, i, raw = T, simple = T), : could not find function \"train\"\nTraceback:\n"
     ]
    }
   ],
   "source": [
    "CV_MSE <- c()\n",
    "\n",
    "set.seed(159)\n",
    "\n",
    "for (i in 1:10) {\n",
    "  model_temp <- train(y = Boston$nox,\n",
    "                      x = poly(Boston$dis, i, raw = T, simple = T),\n",
    "                      method = \"lm\",\n",
    "                      metric = \"MSE\")\n",
    "  CV_MSE[i] <- model_temp$results$MSE\n",
    "}"
   ]
  },
  {
   "cell_type": "code",
   "execution_count": 201,
   "id": "0e2b75db",
   "metadata": {},
   "outputs": [
    {
     "name": "stdout",
     "output_type": "stream",
     "text": [
      "[1] \"MSE of polynomial 1 is NaN\"\n",
      "[1] \"MSE of polynomial 2 is NaN\"\n",
      "[1] \"MSE of polynomial 3 is NaN\"\n",
      "[1] \"MSE of polynomial 4 is NaN\"\n",
      "[1] \"MSE of polynomial 5 is NaN\"\n",
      "[1] \"MSE of polynomial 6 is NaN\"\n",
      "[1] \"MSE of polynomial 7 is NaN\"\n",
      "[1] \"MSE of polynomial 8 is NaN\"\n",
      "[1] \"MSE of polynomial 9 is NaN\"\n",
      "[1] \"MSE of polynomial 10 is NaN\"\n"
     ]
    }
   ],
   "source": [
    "for (i in 1:10) {\n",
    "  model_ <- lm(medv ~ poly(dis,i), data = Boston)\n",
    "  MSE[i] <- cv.glm(Boston, model_)$delta[1]\n",
    "  print(paste(\"MSE of polynomial\",i,\"is\",MSE[i]))\n",
    "}"
   ]
  },
  {
   "cell_type": "code",
   "execution_count": null,
   "id": "6e4773e1",
   "metadata": {},
   "outputs": [],
   "source": []
  }
 ],
 "metadata": {
  "kernelspec": {
   "display_name": "R",
   "language": "R",
   "name": "ir"
  },
  "language_info": {
   "codemirror_mode": "r",
   "file_extension": ".r",
   "mimetype": "text/x-r-source",
   "name": "R",
   "pygments_lexer": "r",
   "version": "3.6.1"
  }
 },
 "nbformat": 4,
 "nbformat_minor": 5
}
