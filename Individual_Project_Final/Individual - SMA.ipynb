{
 "cells": [
  {
   "cell_type": "markdown",
   "id": "649d63c3",
   "metadata": {},
   "source": [
    "# Individual Project\n",
    "# Statistical & Machine Learning\n",
    "\n",
    "### By \n",
    "#### Swasthik Vellingiri Kowsalya"
   ]
  },
  {
   "cell_type": "markdown",
   "id": "b6c9d1fc",
   "metadata": {},
   "source": [
    "### Loading Libraries"
   ]
  },
  {
   "cell_type": "code",
   "execution_count": 181,
   "id": "f973031c",
   "metadata": {
    "scrolled": true
   },
   "outputs": [
    {
     "data": {
      "text/html": [
       "'R version 4.0.5 (2021-03-31)'"
      ],
      "text/latex": [
       "'R version 4.0.5 (2021-03-31)'"
      ],
      "text/markdown": [
       "'R version 4.0.5 (2021-03-31)'"
      ],
      "text/plain": [
       "[1] \"R version 4.0.5 (2021-03-31)\""
      ]
     },
     "metadata": {},
     "output_type": "display_data"
    }
   ],
   "source": [
    "# Set environment params\n",
    "Sys.setenv(LANG='en')  \n",
    "\n",
    "# Import libraries\n",
    "\n",
    "library(data.table)    # Data manipulate\n",
    "library(caret)         # ML toolkit\n",
    "library(mlr)           # ML toolkit\n",
    "library(party)         # Data processing\n",
    "library(pROC)          # AUC, ROC\n",
    "library(rpart)         # Decision tree\n",
    "library(randomForest)  # Bagging and RF\n",
    "library(gbm)           # Boosting tree\n",
    "library(fastDummies)\n",
    "library(MASS)\n",
    "library(class)\n",
    "library(kknn)\n",
    "library(Boruta)\n",
    "\n",
    "# Resize plot\n",
    "library(repr)  # String and binary representations\n",
    "#options(repr.plot.width=4, repr.plot.height=4)\n",
    "\n",
    "R.version.string"
   ]
  },
  {
   "cell_type": "markdown",
   "id": "5ed9977f",
   "metadata": {},
   "source": [
    "##### Loading the data "
   ]
  },
  {
   "cell_type": "code",
   "execution_count": 182,
   "id": "1104e127",
   "metadata": {},
   "outputs": [],
   "source": [
    "df = read.csv('../Individual Project/Dataset 1_Bank Marketing/bank_mkt_train.csv')"
   ]
  },
  {
   "cell_type": "code",
   "execution_count": 183,
   "id": "5a2dffca",
   "metadata": {},
   "outputs": [],
   "source": [
    "dataset = df"
   ]
  },
  {
   "cell_type": "markdown",
   "id": "660e8c79",
   "metadata": {},
   "source": [
    "##### Identifying the independant and dependant variables and Identifying the numerical and categorical variables"
   ]
  },
  {
   "cell_type": "code",
   "execution_count": 184,
   "id": "8d13b5da",
   "metadata": {},
   "outputs": [],
   "source": [
    "ind_variable <- colnames(dataset)[2:(ncol(dataset)-1)]\n",
    "dep_variable <- colnames(dataset)[ncol(dataset)]"
   ]
  },
  {
   "cell_type": "code",
   "execution_count": 185,
   "id": "5f2a859f",
   "metadata": {},
   "outputs": [],
   "source": [
    "numerical = names(which(unlist(lapply(dataset[ind_variable], is.numeric)) == TRUE))\n",
    "categorical = names(which(unlist(lapply(dataset[ind_variable], is.numeric)) == FALSE))"
   ]
  },
  {
   "cell_type": "code",
   "execution_count": 186,
   "id": "88e08a0a",
   "metadata": {},
   "outputs": [
    {
     "data": {
      "text/html": [
       "<style>\n",
       ".list-inline {list-style: none; margin:0; padding: 0}\n",
       ".list-inline>li {display: inline-block}\n",
       ".list-inline>li:not(:last-child)::after {content: \"\\00b7\"; padding: 0 .5ex}\n",
       "</style>\n",
       "<ol class=list-inline><li>'age'</li><li>'campaign'</li><li>'pdays'</li><li>'previous'</li><li>'emp.var.rate'</li><li>'cons.price.idx'</li><li>'cons.conf.idx'</li><li>'euribor3m'</li><li>'nr.employed'</li></ol>\n"
      ],
      "text/latex": [
       "\\begin{enumerate*}\n",
       "\\item 'age'\n",
       "\\item 'campaign'\n",
       "\\item 'pdays'\n",
       "\\item 'previous'\n",
       "\\item 'emp.var.rate'\n",
       "\\item 'cons.price.idx'\n",
       "\\item 'cons.conf.idx'\n",
       "\\item 'euribor3m'\n",
       "\\item 'nr.employed'\n",
       "\\end{enumerate*}\n"
      ],
      "text/markdown": [
       "1. 'age'\n",
       "2. 'campaign'\n",
       "3. 'pdays'\n",
       "4. 'previous'\n",
       "5. 'emp.var.rate'\n",
       "6. 'cons.price.idx'\n",
       "7. 'cons.conf.idx'\n",
       "8. 'euribor3m'\n",
       "9. 'nr.employed'\n",
       "\n",
       "\n"
      ],
      "text/plain": [
       "[1] \"age\"            \"campaign\"       \"pdays\"          \"previous\"      \n",
       "[5] \"emp.var.rate\"   \"cons.price.idx\" \"cons.conf.idx\"  \"euribor3m\"     \n",
       "[9] \"nr.employed\"   "
      ]
     },
     "metadata": {},
     "output_type": "display_data"
    }
   ],
   "source": [
    "numerical"
   ]
  },
  {
   "cell_type": "code",
   "execution_count": 187,
   "id": "e65ba562",
   "metadata": {},
   "outputs": [
    {
     "data": {
      "text/html": [
       "<style>\n",
       ".list-inline {list-style: none; margin:0; padding: 0}\n",
       ".list-inline>li {display: inline-block}\n",
       ".list-inline>li:not(:last-child)::after {content: \"\\00b7\"; padding: 0 .5ex}\n",
       "</style>\n",
       "<ol class=list-inline><li>'job'</li><li>'marital'</li><li>'education'</li><li>'default'</li><li>'housing'</li><li>'loan'</li><li>'contact'</li><li>'month'</li><li>'day_of_week'</li><li>'poutcome'</li></ol>\n"
      ],
      "text/latex": [
       "\\begin{enumerate*}\n",
       "\\item 'job'\n",
       "\\item 'marital'\n",
       "\\item 'education'\n",
       "\\item 'default'\n",
       "\\item 'housing'\n",
       "\\item 'loan'\n",
       "\\item 'contact'\n",
       "\\item 'month'\n",
       "\\item 'day\\_of\\_week'\n",
       "\\item 'poutcome'\n",
       "\\end{enumerate*}\n"
      ],
      "text/markdown": [
       "1. 'job'\n",
       "2. 'marital'\n",
       "3. 'education'\n",
       "4. 'default'\n",
       "5. 'housing'\n",
       "6. 'loan'\n",
       "7. 'contact'\n",
       "8. 'month'\n",
       "9. 'day_of_week'\n",
       "10. 'poutcome'\n",
       "\n",
       "\n"
      ],
      "text/plain": [
       " [1] \"job\"         \"marital\"     \"education\"   \"default\"     \"housing\"    \n",
       " [6] \"loan\"        \"contact\"     \"month\"       \"day_of_week\" \"poutcome\"   "
      ]
     },
     "metadata": {},
     "output_type": "display_data"
    }
   ],
   "source": [
    "categorical"
   ]
  },
  {
   "cell_type": "markdown",
   "id": "38d8b78d",
   "metadata": {},
   "source": [
    "##### Finding the NA values in the data"
   ]
  },
  {
   "cell_type": "code",
   "execution_count": 188,
   "id": "bd67bc39",
   "metadata": {},
   "outputs": [
    {
     "data": {
      "text/html": [
       "<table class=\"dataframe\">\n",
       "<caption>A data.frame: 21 × 1</caption>\n",
       "<thead>\n",
       "\t<tr><th></th><th scope=col>na_values</th></tr>\n",
       "\t<tr><th></th><th scope=col>&lt;int&gt;</th></tr>\n",
       "</thead>\n",
       "<tbody>\n",
       "\t<tr><th scope=row>client_id</th><td>  0</td></tr>\n",
       "\t<tr><th scope=row>age</th><td>202</td></tr>\n",
       "\t<tr><th scope=row>job</th><td>161</td></tr>\n",
       "\t<tr><th scope=row>marital</th><td>199</td></tr>\n",
       "\t<tr><th scope=row>education</th><td>170</td></tr>\n",
       "\t<tr><th scope=row>default</th><td>214</td></tr>\n",
       "\t<tr><th scope=row>housing</th><td>195</td></tr>\n",
       "\t<tr><th scope=row>loan</th><td>219</td></tr>\n",
       "\t<tr><th scope=row>contact</th><td>217</td></tr>\n",
       "\t<tr><th scope=row>month</th><td>199</td></tr>\n",
       "\t<tr><th scope=row>day_of_week</th><td>185</td></tr>\n",
       "\t<tr><th scope=row>campaign</th><td>203</td></tr>\n",
       "\t<tr><th scope=row>pdays</th><td>185</td></tr>\n",
       "\t<tr><th scope=row>previous</th><td>209</td></tr>\n",
       "\t<tr><th scope=row>poutcome</th><td>175</td></tr>\n",
       "\t<tr><th scope=row>emp.var.rate</th><td>165</td></tr>\n",
       "\t<tr><th scope=row>cons.price.idx</th><td>181</td></tr>\n",
       "\t<tr><th scope=row>cons.conf.idx</th><td>197</td></tr>\n",
       "\t<tr><th scope=row>euribor3m</th><td>204</td></tr>\n",
       "\t<tr><th scope=row>nr.employed</th><td>184</td></tr>\n",
       "\t<tr><th scope=row>subscribe</th><td>  0</td></tr>\n",
       "</tbody>\n",
       "</table>\n"
      ],
      "text/latex": [
       "A data.frame: 21 × 1\n",
       "\\begin{tabular}{r|l}\n",
       "  & na\\_values\\\\\n",
       "  & <int>\\\\\n",
       "\\hline\n",
       "\tclient\\_id &   0\\\\\n",
       "\tage & 202\\\\\n",
       "\tjob & 161\\\\\n",
       "\tmarital & 199\\\\\n",
       "\teducation & 170\\\\\n",
       "\tdefault & 214\\\\\n",
       "\thousing & 195\\\\\n",
       "\tloan & 219\\\\\n",
       "\tcontact & 217\\\\\n",
       "\tmonth & 199\\\\\n",
       "\tday\\_of\\_week & 185\\\\\n",
       "\tcampaign & 203\\\\\n",
       "\tpdays & 185\\\\\n",
       "\tprevious & 209\\\\\n",
       "\tpoutcome & 175\\\\\n",
       "\temp.var.rate & 165\\\\\n",
       "\tcons.price.idx & 181\\\\\n",
       "\tcons.conf.idx & 197\\\\\n",
       "\teuribor3m & 204\\\\\n",
       "\tnr.employed & 184\\\\\n",
       "\tsubscribe &   0\\\\\n",
       "\\end{tabular}\n"
      ],
      "text/markdown": [
       "\n",
       "A data.frame: 21 × 1\n",
       "\n",
       "| <!--/--> | na_values &lt;int&gt; |\n",
       "|---|---|\n",
       "| client_id |   0 |\n",
       "| age | 202 |\n",
       "| job | 161 |\n",
       "| marital | 199 |\n",
       "| education | 170 |\n",
       "| default | 214 |\n",
       "| housing | 195 |\n",
       "| loan | 219 |\n",
       "| contact | 217 |\n",
       "| month | 199 |\n",
       "| day_of_week | 185 |\n",
       "| campaign | 203 |\n",
       "| pdays | 185 |\n",
       "| previous | 209 |\n",
       "| poutcome | 175 |\n",
       "| emp.var.rate | 165 |\n",
       "| cons.price.idx | 181 |\n",
       "| cons.conf.idx | 197 |\n",
       "| euribor3m | 204 |\n",
       "| nr.employed | 184 |\n",
       "| subscribe |   0 |\n",
       "\n"
      ],
      "text/plain": [
       "               na_values\n",
       "client_id        0      \n",
       "age            202      \n",
       "job            161      \n",
       "marital        199      \n",
       "education      170      \n",
       "default        214      \n",
       "housing        195      \n",
       "loan           219      \n",
       "contact        217      \n",
       "month          199      \n",
       "day_of_week    185      \n",
       "campaign       203      \n",
       "pdays          185      \n",
       "previous       209      \n",
       "poutcome       175      \n",
       "emp.var.rate   165      \n",
       "cons.price.idx 181      \n",
       "cons.conf.idx  197      \n",
       "euribor3m      204      \n",
       "nr.employed    184      \n",
       "subscribe        0      "
      ]
     },
     "metadata": {},
     "output_type": "display_data"
    }
   ],
   "source": [
    "na_values <-sapply(dataset, function(y) sum(length(which(is.na(y)))))\n",
    "na_values <- data.frame(na_values)\n",
    "na_values"
   ]
  },
  {
   "cell_type": "markdown",
   "id": "fe5ca10e",
   "metadata": {},
   "source": [
    "##### Filling missing values 0 for numerical and \"Missing\" for categorical"
   ]
  },
  {
   "cell_type": "code",
   "execution_count": 189,
   "id": "487018e4",
   "metadata": {},
   "outputs": [],
   "source": [
    "# Numerical variables - Filled with 0\n",
    "for (i in numerical) { dataset[is.na(dataset[i]), i] <- 0 }\n",
    "\n",
    "for (v in categorical) { dataset[is.na(dataset[v]), v] <- \"Missing\" }"
   ]
  },
  {
   "cell_type": "code",
   "execution_count": 190,
   "id": "2cd7fd44",
   "metadata": {},
   "outputs": [
    {
     "data": {
      "text/html": [
       "<table class=\"dataframe\">\n",
       "<caption>A data.frame: 21 × 1</caption>\n",
       "<thead>\n",
       "\t<tr><th></th><th scope=col>na_values1</th></tr>\n",
       "\t<tr><th></th><th scope=col>&lt;int&gt;</th></tr>\n",
       "</thead>\n",
       "<tbody>\n",
       "\t<tr><th scope=row>client_id</th><td>0</td></tr>\n",
       "\t<tr><th scope=row>age</th><td>0</td></tr>\n",
       "\t<tr><th scope=row>job</th><td>0</td></tr>\n",
       "\t<tr><th scope=row>marital</th><td>0</td></tr>\n",
       "\t<tr><th scope=row>education</th><td>0</td></tr>\n",
       "\t<tr><th scope=row>default</th><td>0</td></tr>\n",
       "\t<tr><th scope=row>housing</th><td>0</td></tr>\n",
       "\t<tr><th scope=row>loan</th><td>0</td></tr>\n",
       "\t<tr><th scope=row>contact</th><td>0</td></tr>\n",
       "\t<tr><th scope=row>month</th><td>0</td></tr>\n",
       "\t<tr><th scope=row>day_of_week</th><td>0</td></tr>\n",
       "\t<tr><th scope=row>campaign</th><td>0</td></tr>\n",
       "\t<tr><th scope=row>pdays</th><td>0</td></tr>\n",
       "\t<tr><th scope=row>previous</th><td>0</td></tr>\n",
       "\t<tr><th scope=row>poutcome</th><td>0</td></tr>\n",
       "\t<tr><th scope=row>emp.var.rate</th><td>0</td></tr>\n",
       "\t<tr><th scope=row>cons.price.idx</th><td>0</td></tr>\n",
       "\t<tr><th scope=row>cons.conf.idx</th><td>0</td></tr>\n",
       "\t<tr><th scope=row>euribor3m</th><td>0</td></tr>\n",
       "\t<tr><th scope=row>nr.employed</th><td>0</td></tr>\n",
       "\t<tr><th scope=row>subscribe</th><td>0</td></tr>\n",
       "</tbody>\n",
       "</table>\n"
      ],
      "text/latex": [
       "A data.frame: 21 × 1\n",
       "\\begin{tabular}{r|l}\n",
       "  & na\\_values1\\\\\n",
       "  & <int>\\\\\n",
       "\\hline\n",
       "\tclient\\_id & 0\\\\\n",
       "\tage & 0\\\\\n",
       "\tjob & 0\\\\\n",
       "\tmarital & 0\\\\\n",
       "\teducation & 0\\\\\n",
       "\tdefault & 0\\\\\n",
       "\thousing & 0\\\\\n",
       "\tloan & 0\\\\\n",
       "\tcontact & 0\\\\\n",
       "\tmonth & 0\\\\\n",
       "\tday\\_of\\_week & 0\\\\\n",
       "\tcampaign & 0\\\\\n",
       "\tpdays & 0\\\\\n",
       "\tprevious & 0\\\\\n",
       "\tpoutcome & 0\\\\\n",
       "\temp.var.rate & 0\\\\\n",
       "\tcons.price.idx & 0\\\\\n",
       "\tcons.conf.idx & 0\\\\\n",
       "\teuribor3m & 0\\\\\n",
       "\tnr.employed & 0\\\\\n",
       "\tsubscribe & 0\\\\\n",
       "\\end{tabular}\n"
      ],
      "text/markdown": [
       "\n",
       "A data.frame: 21 × 1\n",
       "\n",
       "| <!--/--> | na_values1 &lt;int&gt; |\n",
       "|---|---|\n",
       "| client_id | 0 |\n",
       "| age | 0 |\n",
       "| job | 0 |\n",
       "| marital | 0 |\n",
       "| education | 0 |\n",
       "| default | 0 |\n",
       "| housing | 0 |\n",
       "| loan | 0 |\n",
       "| contact | 0 |\n",
       "| month | 0 |\n",
       "| day_of_week | 0 |\n",
       "| campaign | 0 |\n",
       "| pdays | 0 |\n",
       "| previous | 0 |\n",
       "| poutcome | 0 |\n",
       "| emp.var.rate | 0 |\n",
       "| cons.price.idx | 0 |\n",
       "| cons.conf.idx | 0 |\n",
       "| euribor3m | 0 |\n",
       "| nr.employed | 0 |\n",
       "| subscribe | 0 |\n",
       "\n"
      ],
      "text/plain": [
       "               na_values1\n",
       "client_id      0         \n",
       "age            0         \n",
       "job            0         \n",
       "marital        0         \n",
       "education      0         \n",
       "default        0         \n",
       "housing        0         \n",
       "loan           0         \n",
       "contact        0         \n",
       "month          0         \n",
       "day_of_week    0         \n",
       "campaign       0         \n",
       "pdays          0         \n",
       "previous       0         \n",
       "poutcome       0         \n",
       "emp.var.rate   0         \n",
       "cons.price.idx 0         \n",
       "cons.conf.idx  0         \n",
       "euribor3m      0         \n",
       "nr.employed    0         \n",
       "subscribe      0         "
      ]
     },
     "metadata": {},
     "output_type": "display_data"
    }
   ],
   "source": [
    "# Checking the NA values of the numerical columns\n",
    "\n",
    "na_values1 <-sapply(dataset, function(y) sum(length(which(is.na(y)))))\n",
    "na_values1 <- data.frame(na_values1)\n",
    "na_values1"
   ]
  },
  {
   "cell_type": "markdown",
   "id": "c129223f",
   "metadata": {},
   "source": [
    "##### Encoding the columns and creation of base table"
   ]
  },
  {
   "cell_type": "code",
   "execution_count": 191,
   "id": "d641c598",
   "metadata": {},
   "outputs": [],
   "source": [
    "data_encoded <- dummy_cols(dataset, select_columns = categorical,remove_selected_columns = TRUE)"
   ]
  },
  {
   "cell_type": "code",
   "execution_count": 192,
   "id": "5da5572c",
   "metadata": {},
   "outputs": [],
   "source": [
    "base_table = subset(data_encoded, select = -c(client_id) )\n",
    "\n",
    "# Names of the base table to altered\n",
    "\n",
    "names(base_table) <- gsub(\"-\", \"_\", names(base_table))"
   ]
  },
  {
   "cell_type": "code",
   "execution_count": 193,
   "id": "e61b0999",
   "metadata": {},
   "outputs": [
    {
     "name": "stdout",
     "output_type": "stream",
     "text": [
      "'data.frame':\t20000 obs. of  73 variables:\n",
      " $ age                          : num  42 35 44 45 45 38 33 38 29 34 ...\n",
      " $ campaign                     : num  1 4 1 1 1 2 1 1 1 1 ...\n",
      " $ pdays                        : num  999 999 999 999 999 999 0 999 999 999 ...\n",
      " $ previous                     : num  0 0 0 0 0 0 1 0 1 0 ...\n",
      " $ emp.var.rate                 : num  1.4 1.4 -1.8 -1.8 1.1 1.1 -1.8 1.1 -1.8 1.4 ...\n",
      " $ cons.price.idx               : num  93.9 94.5 92.9 93.1 94 ...\n",
      " $ cons.conf.idx                : num  -42.7 -41.8 -46.2 -47.1 -36.4 -36.4 -47.1 -36.4 -46.2 -36.1 ...\n",
      " $ euribor3m                    : num  4.97 4.96 1.26 1.45 4.86 ...\n",
      " $ nr.employed                  : num  5228 5228 5099 5099 5191 ...\n",
      " $ subscribe                    : int  0 0 0 0 0 0 1 0 0 0 ...\n",
      " $ job_admin.                   : int  0 0 0 0 0 0 0 0 0 1 ...\n",
      " $ job_blue_collar              : int  0 0 0 0 0 0 0 1 1 0 ...\n",
      " $ job_entrepreneur             : int  0 0 0 0 0 0 0 0 0 0 ...\n",
      " $ job_housemaid                : int  0 0 0 0 0 0 0 0 0 0 ...\n",
      " $ job_management               : int  1 0 0 0 0 0 0 0 0 0 ...\n",
      " $ job_Missing                  : int  0 0 0 0 0 0 0 0 0 0 ...\n",
      " $ job_retired                  : int  0 0 0 0 0 0 0 0 0 0 ...\n",
      " $ job_self_employed            : int  0 0 0 0 0 0 0 0 0 0 ...\n",
      " $ job_services                 : int  0 0 0 1 0 0 0 0 0 0 ...\n",
      " $ job_student                  : int  0 0 0 0 0 0 0 0 0 0 ...\n",
      " $ job_technician               : int  0 0 1 0 0 1 1 0 0 0 ...\n",
      " $ job_unemployed               : int  0 1 0 0 0 0 0 0 0 0 ...\n",
      " $ job_unknown                  : int  0 0 0 0 1 0 0 0 0 0 ...\n",
      " $ marital_divorced             : int  0 0 0 0 0 0 0 0 0 1 ...\n",
      " $ marital_married              : int  1 1 1 1 1 1 1 0 0 0 ...\n",
      " $ marital_Missing              : int  0 0 0 0 0 0 0 0 0 0 ...\n",
      " $ marital_single               : int  0 0 0 0 0 0 0 1 1 0 ...\n",
      " $ marital_unknown              : int  0 0 0 0 0 0 0 0 0 0 ...\n",
      " $ education_basic.4y           : int  0 0 0 0 0 0 0 0 0 0 ...\n",
      " $ education_basic.6y           : int  0 0 0 0 0 0 0 0 0 0 ...\n",
      " $ education_basic.9y           : int  1 0 1 0 0 0 0 1 0 0 ...\n",
      " $ education_high.school        : int  0 0 0 1 0 0 0 0 0 0 ...\n",
      " $ education_illiterate         : int  0 0 0 0 0 0 0 0 0 0 ...\n",
      " $ education_Missing            : int  0 0 0 0 0 0 0 0 0 0 ...\n",
      " $ education_professional.course: int  0 0 0 0 0 1 1 0 0 0 ...\n",
      " $ education_university.degree  : int  0 1 0 0 0 0 0 0 0 1 ...\n",
      " $ education_unknown            : int  0 0 0 0 1 0 0 0 1 0 ...\n",
      " $ default_Missing              : int  0 0 0 0 0 0 0 0 0 0 ...\n",
      " $ default_no                   : int  1 1 1 1 0 1 1 0 1 1 ...\n",
      " $ default_unknown              : int  0 0 0 0 1 0 0 1 0 0 ...\n",
      " $ default_yes                  : int  0 0 0 0 0 0 0 0 0 0 ...\n",
      " $ housing_Missing              : int  0 0 0 0 0 0 0 0 0 0 ...\n",
      " $ housing_no                   : int  1 0 0 0 0 1 1 0 0 0 ...\n",
      " $ housing_unknown              : int  0 0 0 0 1 0 0 0 0 0 ...\n",
      " $ housing_yes                  : int  0 1 1 1 0 0 0 1 1 1 ...\n",
      " $ loan_Missing                 : int  0 0 0 0 0 0 0 0 0 0 ...\n",
      " $ loan_no                      : int  1 1 0 1 0 1 0 1 1 0 ...\n",
      " $ loan_unknown                 : int  0 0 0 0 1 0 0 0 0 0 ...\n",
      " $ loan_yes                     : int  0 0 1 0 0 0 1 0 0 1 ...\n",
      " $ contact_cellular             : int  1 0 1 1 0 0 1 0 1 1 ...\n",
      " $ contact_Missing              : int  0 0 0 0 0 0 0 0 0 0 ...\n",
      " $ contact_telephone            : int  0 1 0 0 1 1 0 1 0 0 ...\n",
      " $ month_apr                    : int  0 0 0 1 0 0 1 0 0 0 ...\n",
      " $ month_aug                    : int  0 0 0 0 0 0 0 0 0 1 ...\n",
      " $ month_dec                    : int  0 0 0 0 0 0 0 0 0 0 ...\n",
      " $ month_jul                    : int  1 0 0 0 0 0 0 0 0 0 ...\n",
      " $ month_jun                    : int  0 1 0 0 0 0 0 0 0 0 ...\n",
      " $ month_mar                    : int  0 0 0 0 0 0 0 0 0 0 ...\n",
      " $ month_may                    : int  0 0 1 0 1 1 0 1 1 0 ...\n",
      " $ month_Missing                : int  0 0 0 0 0 0 0 0 0 0 ...\n",
      " $ month_nov                    : int  0 0 0 0 0 0 0 0 0 0 ...\n",
      " $ month_oct                    : int  0 0 0 0 0 0 0 0 0 0 ...\n",
      " $ month_sep                    : int  0 0 0 0 0 0 0 0 0 0 ...\n",
      " $ day_of_week_fri              : int  0 0 0 0 0 0 1 0 1 0 ...\n",
      " $ day_of_week_Missing          : int  0 0 0 0 0 0 0 0 0 0 ...\n",
      " $ day_of_week_mon              : int  0 1 1 0 0 0 0 0 0 0 ...\n",
      " $ day_of_week_thu              : int  1 0 0 0 0 0 0 0 0 0 ...\n",
      " $ day_of_week_tue              : int  0 0 0 1 0 0 0 0 0 0 ...\n",
      " $ day_of_week_wed              : int  0 0 0 0 1 1 0 1 0 1 ...\n",
      " $ poutcome_failure             : int  0 0 0 0 0 0 1 0 1 0 ...\n",
      " $ poutcome_Missing             : int  0 0 0 0 0 0 0 0 0 0 ...\n",
      " $ poutcome_nonexistent         : int  1 1 1 1 1 1 0 1 0 1 ...\n",
      " $ poutcome_success             : int  0 0 0 0 0 0 0 0 0 0 ...\n"
     ]
    }
   ],
   "source": [
    "str(base_table)"
   ]
  },
  {
   "cell_type": "code",
   "execution_count": 313,
   "id": "afd6a4a8",
   "metadata": {},
   "outputs": [],
   "source": [
    "write.csv(base_table,\"./Individual Project\", row.names = FALSE)"
   ]
  },
  {
   "cell_type": "markdown",
   "id": "8c069cf1",
   "metadata": {},
   "source": [
    "# Feature Selection"
   ]
  },
  {
   "cell_type": "markdown",
   "id": "d6ee5aee",
   "metadata": {},
   "source": [
    "##### Selecting the important features using the boruta feature selection method"
   ]
  },
  {
   "cell_type": "code",
   "execution_count": 13,
   "id": "440a1b15",
   "metadata": {},
   "outputs": [
    {
     "name": "stderr",
     "output_type": "stream",
     "text": [
      " 1. run of importance source...\n",
      "\n"
     ]
    },
    {
     "name": "stdout",
     "output_type": "stream",
     "text": [
      "Computing permutation importance.. Progress: 45%. Estimated remaining time: 37 seconds.\n",
      "Computing permutation importance.. Progress: 90%. Estimated remaining time: 7 seconds.\n"
     ]
    },
    {
     "name": "stderr",
     "output_type": "stream",
     "text": [
      " 2. run of importance source...\n",
      "\n"
     ]
    },
    {
     "name": "stdout",
     "output_type": "stream",
     "text": [
      "Computing permutation importance.. Progress: 45%. Estimated remaining time: 38 seconds.\n",
      "Computing permutation importance.. Progress: 90%. Estimated remaining time: 7 seconds.\n"
     ]
    },
    {
     "name": "stderr",
     "output_type": "stream",
     "text": [
      " 3. run of importance source...\n",
      "\n"
     ]
    },
    {
     "name": "stdout",
     "output_type": "stream",
     "text": [
      "Computing permutation importance.. Progress: 45%. Estimated remaining time: 37 seconds.\n",
      "Computing permutation importance.. Progress: 90%. Estimated remaining time: 6 seconds.\n"
     ]
    },
    {
     "name": "stderr",
     "output_type": "stream",
     "text": [
      " 4. run of importance source...\n",
      "\n"
     ]
    },
    {
     "name": "stdout",
     "output_type": "stream",
     "text": [
      "Computing permutation importance.. Progress: 42%. Estimated remaining time: 42 seconds.\n",
      "Computing permutation importance.. Progress: 86%. Estimated remaining time: 10 seconds.\n"
     ]
    },
    {
     "name": "stderr",
     "output_type": "stream",
     "text": [
      " 5. run of importance source...\n",
      "\n"
     ]
    },
    {
     "name": "stdout",
     "output_type": "stream",
     "text": [
      "Computing permutation importance.. Progress: 44%. Estimated remaining time: 39 seconds.\n",
      "Computing permutation importance.. Progress: 90%. Estimated remaining time: 6 seconds.\n"
     ]
    },
    {
     "name": "stderr",
     "output_type": "stream",
     "text": [
      " 6. run of importance source...\n",
      "\n"
     ]
    },
    {
     "name": "stdout",
     "output_type": "stream",
     "text": [
      "Computing permutation importance.. Progress: 45%. Estimated remaining time: 37 seconds.\n",
      "Computing permutation importance.. Progress: 89%. Estimated remaining time: 7 seconds.\n"
     ]
    },
    {
     "name": "stderr",
     "output_type": "stream",
     "text": [
      " 7. run of importance source...\n",
      "\n"
     ]
    },
    {
     "name": "stdout",
     "output_type": "stream",
     "text": [
      "Computing permutation importance.. Progress: 39%. Estimated remaining time: 48 seconds.\n",
      "Computing permutation importance.. Progress: 79%. Estimated remaining time: 16 seconds.\n"
     ]
    },
    {
     "name": "stderr",
     "output_type": "stream",
     "text": [
      " 8. run of importance source...\n",
      "\n"
     ]
    },
    {
     "name": "stdout",
     "output_type": "stream",
     "text": [
      "Computing permutation importance.. Progress: 42%. Estimated remaining time: 43 seconds.\n",
      "Computing permutation importance.. Progress: 84%. Estimated remaining time: 11 seconds.\n"
     ]
    },
    {
     "name": "stderr",
     "output_type": "stream",
     "text": [
      " 9. run of importance source...\n",
      "\n"
     ]
    },
    {
     "name": "stdout",
     "output_type": "stream",
     "text": [
      "Computing permutation importance.. Progress: 45%. Estimated remaining time: 37 seconds.\n",
      "Computing permutation importance.. Progress: 90%. Estimated remaining time: 7 seconds.\n"
     ]
    },
    {
     "name": "stderr",
     "output_type": "stream",
     "text": [
      " 10. run of importance source...\n",
      "\n"
     ]
    },
    {
     "name": "stdout",
     "output_type": "stream",
     "text": [
      "Computing permutation importance.. Progress: 47%. Estimated remaining time: 35 seconds.\n",
      "Computing permutation importance.. Progress: 93%. Estimated remaining time: 4 seconds.\n"
     ]
    },
    {
     "name": "stderr",
     "output_type": "stream",
     "text": [
      " 11. run of importance source...\n",
      "\n"
     ]
    },
    {
     "name": "stdout",
     "output_type": "stream",
     "text": [
      "Computing permutation importance.. Progress: 41%. Estimated remaining time: 44 seconds.\n",
      "Computing permutation importance.. Progress: 82%. Estimated remaining time: 13 seconds.\n"
     ]
    },
    {
     "name": "stderr",
     "output_type": "stream",
     "text": [
      " 12. run of importance source...\n",
      "\n"
     ]
    },
    {
     "name": "stdout",
     "output_type": "stream",
     "text": [
      "Computing permutation importance.. Progress: 35%. Estimated remaining time: 57 seconds.\n",
      "Computing permutation importance.. Progress: 74%. Estimated remaining time: 21 seconds.\n"
     ]
    },
    {
     "name": "stderr",
     "output_type": "stream",
     "text": [
      " 13. run of importance source...\n",
      "\n"
     ]
    },
    {
     "name": "stdout",
     "output_type": "stream",
     "text": [
      "Computing permutation importance.. Progress: 47%. Estimated remaining time: 34 seconds.\n",
      "Computing permutation importance.. Progress: 95%. Estimated remaining time: 3 seconds.\n"
     ]
    },
    {
     "name": "stderr",
     "output_type": "stream",
     "text": [
      "After 13 iterations, +20 mins: \n",
      "\n",
      " confirmed 24 attributes: age, cons.conf.idx, cons.price.idx, contact_cellular, contact_telephone and 19 more;\n",
      "\n",
      " rejected 22 attributes: contact_Missing, day_of_week_Missing, day_of_week_thu, default_Missing, default_yes and 17 more;\n",
      "\n",
      " still have 26 attributes left.\n",
      "\n",
      "\n",
      " 14. run of importance source...\n",
      "\n"
     ]
    },
    {
     "name": "stdout",
     "output_type": "stream",
     "text": [
      "Computing permutation importance.. Progress: 79%. Estimated remaining time: 8 seconds.\n"
     ]
    },
    {
     "name": "stderr",
     "output_type": "stream",
     "text": [
      " 15. run of importance source...\n",
      "\n"
     ]
    },
    {
     "name": "stdout",
     "output_type": "stream",
     "text": [
      "Computing permutation importance.. Progress: 82%. Estimated remaining time: 6 seconds.\n"
     ]
    },
    {
     "name": "stderr",
     "output_type": "stream",
     "text": [
      " 16. run of importance source...\n",
      "\n"
     ]
    },
    {
     "name": "stdout",
     "output_type": "stream",
     "text": [
      "Computing permutation importance.. Progress: 79%. Estimated remaining time: 8 seconds.\n"
     ]
    },
    {
     "name": "stderr",
     "output_type": "stream",
     "text": [
      " 17. run of importance source...\n",
      "\n"
     ]
    },
    {
     "name": "stdout",
     "output_type": "stream",
     "text": [
      "Computing permutation importance.. Progress: 81%. Estimated remaining time: 7 seconds.\n"
     ]
    },
    {
     "name": "stderr",
     "output_type": "stream",
     "text": [
      "After 17 iterations, +23 mins: \n",
      "\n",
      " confirmed 2 attributes: job_retired, month_aug;\n",
      "\n",
      " rejected 2 attributes: job_services, loan_unknown;\n",
      "\n",
      " still have 22 attributes left.\n",
      "\n",
      "\n",
      " 18. run of importance source...\n",
      "\n"
     ]
    },
    {
     "name": "stdout",
     "output_type": "stream",
     "text": [
      "Computing permutation importance.. Progress: 84%. Estimated remaining time: 5 seconds.\n"
     ]
    },
    {
     "name": "stderr",
     "output_type": "stream",
     "text": [
      " 19. run of importance source...\n",
      "\n"
     ]
    },
    {
     "name": "stdout",
     "output_type": "stream",
     "text": [
      "Computing permutation importance.. Progress: 68%. Estimated remaining time: 14 seconds.\n"
     ]
    },
    {
     "name": "stderr",
     "output_type": "stream",
     "text": [
      " 20. run of importance source...\n",
      "\n"
     ]
    },
    {
     "name": "stdout",
     "output_type": "stream",
     "text": [
      "Computing permutation importance.. Progress: 78%. Estimated remaining time: 8 seconds.\n"
     ]
    },
    {
     "name": "stderr",
     "output_type": "stream",
     "text": [
      " 21. run of importance source...\n",
      "\n"
     ]
    },
    {
     "name": "stdout",
     "output_type": "stream",
     "text": [
      "Computing permutation importance.. Progress: 83%. Estimated remaining time: 6 seconds.\n"
     ]
    },
    {
     "name": "stderr",
     "output_type": "stream",
     "text": [
      "After 21 iterations, +27 mins: \n",
      "\n",
      " rejected 2 attributes: education_high.school, job_technician;\n",
      "\n",
      " still have 20 attributes left.\n",
      "\n",
      "\n",
      " 22. run of importance source...\n",
      "\n"
     ]
    },
    {
     "name": "stdout",
     "output_type": "stream",
     "text": [
      "Computing permutation importance.. Progress: 92%. Estimated remaining time: 2 seconds.\n"
     ]
    },
    {
     "name": "stderr",
     "output_type": "stream",
     "text": [
      " 23. run of importance source...\n",
      "\n"
     ]
    },
    {
     "name": "stdout",
     "output_type": "stream",
     "text": [
      "Computing permutation importance.. Progress: 91%. Estimated remaining time: 2 seconds.\n"
     ]
    },
    {
     "name": "stderr",
     "output_type": "stream",
     "text": [
      " 24. run of importance source...\n",
      "\n"
     ]
    },
    {
     "name": "stdout",
     "output_type": "stream",
     "text": [
      "Computing permutation importance.. Progress: 62%. Estimated remaining time: 18 seconds.\n"
     ]
    },
    {
     "name": "stderr",
     "output_type": "stream",
     "text": [
      "After 24 iterations, +29 mins: \n",
      "\n",
      " confirmed 4 attributes: campaign, day_of_week_fri, education_university.degree, job_unknown;\n",
      "\n",
      " rejected 1 attribute: education_professional.course;\n",
      "\n",
      " still have 15 attributes left.\n",
      "\n",
      "\n",
      " 25. run of importance source...\n",
      "\n"
     ]
    },
    {
     "name": "stdout",
     "output_type": "stream",
     "text": [
      "Computing permutation importance.. Progress: 89%. Estimated remaining time: 3 seconds.\n"
     ]
    },
    {
     "name": "stderr",
     "output_type": "stream",
     "text": [
      " 26. run of importance source...\n",
      "\n"
     ]
    },
    {
     "name": "stdout",
     "output_type": "stream",
     "text": [
      "Computing permutation importance.. Progress: 96%. Estimated remaining time: 1 seconds.\n"
     ]
    },
    {
     "name": "stderr",
     "output_type": "stream",
     "text": [
      " 27. run of importance source...\n",
      "\n"
     ]
    },
    {
     "name": "stdout",
     "output_type": "stream",
     "text": [
      "Computing permutation importance.. Progress: 96%. Estimated remaining time: 1 seconds.\n"
     ]
    },
    {
     "name": "stderr",
     "output_type": "stream",
     "text": [
      " 28. run of importance source...\n",
      "\n"
     ]
    },
    {
     "name": "stdout",
     "output_type": "stream",
     "text": [
      "Computing permutation importance.. Progress: 94%. Estimated remaining time: 2 seconds.\n"
     ]
    },
    {
     "name": "stderr",
     "output_type": "stream",
     "text": [
      "After 28 iterations, +32 mins: \n",
      "\n",
      " confirmed 1 attribute: marital_single;\n",
      "\n",
      " rejected 1 attribute: housing_unknown;\n",
      "\n",
      " still have 13 attributes left.\n",
      "\n",
      "\n",
      " 29. run of importance source...\n",
      "\n"
     ]
    },
    {
     "name": "stdout",
     "output_type": "stream",
     "text": [
      "Computing permutation importance.. Progress: 98%. Estimated remaining time: 0 seconds.\n"
     ]
    },
    {
     "name": "stderr",
     "output_type": "stream",
     "text": [
      " 30. run of importance source...\n",
      "\n"
     ]
    },
    {
     "name": "stdout",
     "output_type": "stream",
     "text": [
      "Computing permutation importance.. Progress: 98%. Estimated remaining time: 0 seconds.\n"
     ]
    },
    {
     "name": "stderr",
     "output_type": "stream",
     "text": [
      " 31. run of importance source...\n",
      "\n"
     ]
    },
    {
     "name": "stdout",
     "output_type": "stream",
     "text": [
      "Computing permutation importance.. Progress: 97%. Estimated remaining time: 0 seconds.\n"
     ]
    },
    {
     "name": "stderr",
     "output_type": "stream",
     "text": [
      " 32. run of importance source...\n",
      "\n"
     ]
    },
    {
     "name": "stdout",
     "output_type": "stream",
     "text": [
      "Computing permutation importance.. Progress: 100%. Estimated remaining time: 0 seconds.\n"
     ]
    },
    {
     "name": "stderr",
     "output_type": "stream",
     "text": [
      " 33. run of importance source...\n",
      "\n"
     ]
    },
    {
     "name": "stdout",
     "output_type": "stream",
     "text": [
      "Computing permutation importance.. Progress: 99%. Estimated remaining time: 0 seconds.\n"
     ]
    },
    {
     "name": "stderr",
     "output_type": "stream",
     "text": [
      " 34. run of importance source...\n",
      "\n"
     ]
    },
    {
     "name": "stdout",
     "output_type": "stream",
     "text": [
      "Computing permutation importance.. Progress: 97%. Estimated remaining time: 0 seconds.\n"
     ]
    },
    {
     "name": "stderr",
     "output_type": "stream",
     "text": [
      "After 34 iterations, +36 mins: \n",
      "\n",
      " rejected 1 attribute: job_management;\n",
      "\n",
      " still have 12 attributes left.\n",
      "\n",
      "\n",
      " 35. run of importance source...\n",
      "\n",
      " 36. run of importance source...\n",
      "\n",
      " 37. run of importance source...\n",
      "\n",
      " 38. run of importance source...\n",
      "\n"
     ]
    },
    {
     "name": "stdout",
     "output_type": "stream",
     "text": [
      "Computing permutation importance.. Progress: 99%. Estimated remaining time: 0 seconds.\n"
     ]
    },
    {
     "name": "stderr",
     "output_type": "stream",
     "text": [
      " 39. run of importance source...\n",
      "\n",
      " 40. run of importance source...\n",
      "\n",
      " 41. run of importance source...\n",
      "\n",
      " 42. run of importance source...\n",
      "\n"
     ]
    },
    {
     "name": "stdout",
     "output_type": "stream",
     "text": [
      "Computing permutation importance.. Progress: 97%. Estimated remaining time: 0 seconds.\n"
     ]
    },
    {
     "name": "stderr",
     "output_type": "stream",
     "text": [
      " 43. run of importance source...\n",
      "\n"
     ]
    },
    {
     "name": "stdout",
     "output_type": "stream",
     "text": [
      "Computing permutation importance.. Progress: 95%. Estimated remaining time: 1 seconds.\n"
     ]
    },
    {
     "name": "stderr",
     "output_type": "stream",
     "text": [
      " 44. run of importance source...\n",
      "\n"
     ]
    },
    {
     "name": "stdout",
     "output_type": "stream",
     "text": [
      "Computing permutation importance.. Progress: 96%. Estimated remaining time: 1 seconds.\n"
     ]
    },
    {
     "name": "stderr",
     "output_type": "stream",
     "text": [
      " 45. run of importance source...\n",
      "\n"
     ]
    },
    {
     "name": "stdout",
     "output_type": "stream",
     "text": [
      "Computing permutation importance.. Progress: 97%. Estimated remaining time: 0 seconds.\n"
     ]
    },
    {
     "name": "stderr",
     "output_type": "stream",
     "text": [
      "After 45 iterations, +44 mins: \n",
      "\n",
      " confirmed 1 attribute: job_blue_collar;\n",
      "\n",
      " still have 11 attributes left.\n",
      "\n",
      "\n",
      " 46. run of importance source...\n",
      "\n"
     ]
    },
    {
     "name": "stdout",
     "output_type": "stream",
     "text": [
      "Computing permutation importance.. Progress: 89%. Estimated remaining time: 3 seconds.\n"
     ]
    },
    {
     "name": "stderr",
     "output_type": "stream",
     "text": [
      " 47. run of importance source...\n",
      "\n",
      " 48. run of importance source...\n",
      "\n"
     ]
    },
    {
     "name": "stdout",
     "output_type": "stream",
     "text": [
      "Computing permutation importance.. Progress: 96%. Estimated remaining time: 1 seconds.\n"
     ]
    },
    {
     "name": "stderr",
     "output_type": "stream",
     "text": [
      " 49. run of importance source...\n",
      "\n"
     ]
    },
    {
     "name": "stdout",
     "output_type": "stream",
     "text": [
      "Computing permutation importance.. Progress: 98%. Estimated remaining time: 0 seconds.\n"
     ]
    },
    {
     "name": "stderr",
     "output_type": "stream",
     "text": [
      " 50. run of importance source...\n",
      "\n"
     ]
    },
    {
     "name": "stdout",
     "output_type": "stream",
     "text": [
      "Computing permutation importance.. Progress: 96%. Estimated remaining time: 1 seconds.\n"
     ]
    },
    {
     "name": "stderr",
     "output_type": "stream",
     "text": [
      " 51. run of importance source...\n",
      "\n"
     ]
    },
    {
     "name": "stdout",
     "output_type": "stream",
     "text": [
      "Computing permutation importance.. Progress: 96%. Estimated remaining time: 1 seconds.\n"
     ]
    },
    {
     "name": "stderr",
     "output_type": "stream",
     "text": [
      " 52. run of importance source...\n",
      "\n"
     ]
    },
    {
     "name": "stdout",
     "output_type": "stream",
     "text": [
      "Computing permutation importance.. Progress: 95%. Estimated remaining time: 1 seconds.\n"
     ]
    },
    {
     "name": "stderr",
     "output_type": "stream",
     "text": [
      " 53. run of importance source...\n",
      "\n",
      " 54. run of importance source...\n",
      "\n",
      " 55. run of importance source...\n",
      "\n"
     ]
    },
    {
     "name": "stdout",
     "output_type": "stream",
     "text": [
      "Computing permutation importance.. Progress: 93%. Estimated remaining time: 2 seconds.\n"
     ]
    },
    {
     "name": "stderr",
     "output_type": "stream",
     "text": [
      " 56. run of importance source...\n",
      "\n"
     ]
    },
    {
     "name": "stdout",
     "output_type": "stream",
     "text": [
      "Computing permutation importance.. Progress: 97%. Estimated remaining time: 1 seconds.\n"
     ]
    },
    {
     "name": "stderr",
     "output_type": "stream",
     "text": [
      " 57. run of importance source...\n",
      "\n"
     ]
    },
    {
     "name": "stdout",
     "output_type": "stream",
     "text": [
      "Computing permutation importance.. Progress: 93%. Estimated remaining time: 2 seconds.\n"
     ]
    },
    {
     "name": "stderr",
     "output_type": "stream",
     "text": [
      " 58. run of importance source...\n",
      "\n"
     ]
    },
    {
     "name": "stdout",
     "output_type": "stream",
     "text": [
      "Computing permutation importance.. Progress: 96%. Estimated remaining time: 1 seconds.\n"
     ]
    },
    {
     "name": "stderr",
     "output_type": "stream",
     "text": [
      " 59. run of importance source...\n",
      "\n"
     ]
    },
    {
     "name": "stdout",
     "output_type": "stream",
     "text": [
      "Computing permutation importance.. Progress: 99%. Estimated remaining time: 0 seconds.\n"
     ]
    },
    {
     "name": "stderr",
     "output_type": "stream",
     "text": [
      "After 59 iterations, +54 mins: \n",
      "\n",
      " confirmed 1 attribute: housing_yes;\n",
      "\n",
      " still have 10 attributes left.\n",
      "\n",
      "\n",
      " 60. run of importance source...\n",
      "\n"
     ]
    },
    {
     "name": "stdout",
     "output_type": "stream",
     "text": [
      "Computing permutation importance.. Progress: 99%. Estimated remaining time: 0 seconds.\n"
     ]
    },
    {
     "name": "stderr",
     "output_type": "stream",
     "text": [
      " 61. run of importance source...\n",
      "\n"
     ]
    },
    {
     "name": "stdout",
     "output_type": "stream",
     "text": [
      "Computing permutation importance.. Progress: 98%. Estimated remaining time: 0 seconds.\n"
     ]
    },
    {
     "name": "stderr",
     "output_type": "stream",
     "text": [
      " 62. run of importance source...\n",
      "\n"
     ]
    },
    {
     "name": "stdout",
     "output_type": "stream",
     "text": [
      "Computing permutation importance.. Progress: 98%. Estimated remaining time: 0 seconds.\n"
     ]
    },
    {
     "name": "stderr",
     "output_type": "stream",
     "text": [
      " 63. run of importance source...\n",
      "\n"
     ]
    },
    {
     "name": "stdout",
     "output_type": "stream",
     "text": [
      "Computing permutation importance.. Progress: 95%. Estimated remaining time: 1 seconds.\n"
     ]
    },
    {
     "name": "stderr",
     "output_type": "stream",
     "text": [
      " 64. run of importance source...\n",
      "\n"
     ]
    },
    {
     "name": "stdout",
     "output_type": "stream",
     "text": [
      "Computing permutation importance.. Progress: 94%. Estimated remaining time: 1 seconds.\n"
     ]
    },
    {
     "name": "stderr",
     "output_type": "stream",
     "text": [
      "After 64 iterations, +58 mins: \n",
      "\n",
      " confirmed 1 attribute: housing_no;\n",
      "\n",
      " still have 9 attributes left.\n",
      "\n",
      "\n",
      " 65. run of importance source...\n",
      "\n"
     ]
    },
    {
     "name": "stdout",
     "output_type": "stream",
     "text": [
      "Computing permutation importance.. Progress: 95%. Estimated remaining time: 1 seconds.\n"
     ]
    },
    {
     "name": "stderr",
     "output_type": "stream",
     "text": [
      " 66. run of importance source...\n",
      "\n"
     ]
    },
    {
     "name": "stdout",
     "output_type": "stream",
     "text": [
      "Computing permutation importance.. Progress: 96%. Estimated remaining time: 1 seconds.\n"
     ]
    },
    {
     "name": "stderr",
     "output_type": "stream",
     "text": [
      " 67. run of importance source...\n",
      "\n",
      " 68. run of importance source...\n",
      "\n",
      " 69. run of importance source...\n",
      "\n",
      " 70. run of importance source...\n",
      "\n",
      " 71. run of importance source...\n",
      "\n",
      " 72. run of importance source...\n",
      "\n",
      " 73. run of importance source...\n",
      "\n",
      " 74. run of importance source...\n",
      "\n",
      " 75. run of importance source...\n",
      "\n",
      " 76. run of importance source...\n",
      "\n",
      " 77. run of importance source...\n",
      "\n"
     ]
    },
    {
     "name": "stdout",
     "output_type": "stream",
     "text": [
      "Computing permutation importance.. Progress: 83%. Estimated remaining time: 6 seconds.\n"
     ]
    },
    {
     "name": "stderr",
     "output_type": "stream",
     "text": [
      " 78. run of importance source...\n",
      "\n"
     ]
    },
    {
     "name": "stdout",
     "output_type": "stream",
     "text": [
      "Computing permutation importance.. Progress: 96%. Estimated remaining time: 1 seconds.\n"
     ]
    },
    {
     "name": "stderr",
     "output_type": "stream",
     "text": [
      " 79. run of importance source...\n",
      "\n"
     ]
    },
    {
     "name": "stdout",
     "output_type": "stream",
     "text": [
      "Computing permutation importance.. Progress: 95%. Estimated remaining time: 1 seconds.\n"
     ]
    },
    {
     "name": "stderr",
     "output_type": "stream",
     "text": [
      " 80. run of importance source...\n",
      "\n"
     ]
    },
    {
     "name": "stdout",
     "output_type": "stream",
     "text": [
      "Computing permutation importance.. Progress: 95%. Estimated remaining time: 1 seconds.\n"
     ]
    },
    {
     "name": "stderr",
     "output_type": "stream",
     "text": [
      " 81. run of importance source...\n",
      "\n"
     ]
    },
    {
     "name": "stdout",
     "output_type": "stream",
     "text": [
      "Computing permutation importance.. Progress: 95%. Estimated remaining time: 1 seconds.\n"
     ]
    },
    {
     "name": "stderr",
     "output_type": "stream",
     "text": [
      " 82. run of importance source...\n",
      "\n"
     ]
    },
    {
     "name": "stdout",
     "output_type": "stream",
     "text": [
      "Computing permutation importance.. Progress: 96%. Estimated remaining time: 1 seconds.\n"
     ]
    },
    {
     "name": "stderr",
     "output_type": "stream",
     "text": [
      " 83. run of importance source...\n",
      "\n"
     ]
    },
    {
     "name": "stdout",
     "output_type": "stream",
     "text": [
      "Computing permutation importance.. Progress: 96%. Estimated remaining time: 1 seconds.\n"
     ]
    },
    {
     "name": "stderr",
     "output_type": "stream",
     "text": [
      " 84. run of importance source...\n",
      "\n"
     ]
    },
    {
     "name": "stdout",
     "output_type": "stream",
     "text": [
      "Computing permutation importance.. Progress: 92%. Estimated remaining time: 2 seconds.\n"
     ]
    },
    {
     "name": "stderr",
     "output_type": "stream",
     "text": [
      " 85. run of importance source...\n",
      "\n"
     ]
    },
    {
     "name": "stdout",
     "output_type": "stream",
     "text": [
      "Computing permutation importance.. Progress: 91%. Estimated remaining time: 3 seconds.\n"
     ]
    },
    {
     "name": "stderr",
     "output_type": "stream",
     "text": [
      " 86. run of importance source...\n",
      "\n"
     ]
    },
    {
     "name": "stdout",
     "output_type": "stream",
     "text": [
      "Computing permutation importance.. Progress: 96%. Estimated remaining time: 1 seconds.\n"
     ]
    },
    {
     "name": "stderr",
     "output_type": "stream",
     "text": [
      " 87. run of importance source...\n",
      "\n"
     ]
    },
    {
     "name": "stdout",
     "output_type": "stream",
     "text": [
      "Computing permutation importance.. Progress: 95%. Estimated remaining time: 1 seconds.\n"
     ]
    },
    {
     "name": "stderr",
     "output_type": "stream",
     "text": [
      " 88. run of importance source...\n",
      "\n"
     ]
    },
    {
     "name": "stdout",
     "output_type": "stream",
     "text": [
      "Computing permutation importance.. Progress: 97%. Estimated remaining time: 1 seconds.\n"
     ]
    },
    {
     "name": "stderr",
     "output_type": "stream",
     "text": [
      " 89. run of importance source...\n",
      "\n"
     ]
    },
    {
     "name": "stdout",
     "output_type": "stream",
     "text": [
      "Computing permutation importance.. Progress: 97%. Estimated remaining time: 0 seconds.\n"
     ]
    },
    {
     "name": "stderr",
     "output_type": "stream",
     "text": [
      " 90. run of importance source...\n",
      "\n"
     ]
    },
    {
     "name": "stdout",
     "output_type": "stream",
     "text": [
      "Computing permutation importance.. Progress: 96%. Estimated remaining time: 1 seconds.\n"
     ]
    },
    {
     "name": "stderr",
     "output_type": "stream",
     "text": [
      " 91. run of importance source...\n",
      "\n"
     ]
    },
    {
     "name": "stdout",
     "output_type": "stream",
     "text": [
      "Computing permutation importance.. Progress: 92%. Estimated remaining time: 2 seconds.\n"
     ]
    },
    {
     "name": "stderr",
     "output_type": "stream",
     "text": [
      " 92. run of importance source...\n",
      "\n",
      " 93. run of importance source...\n",
      "\n",
      " 94. run of importance source...\n",
      "\n"
     ]
    },
    {
     "name": "stdout",
     "output_type": "stream",
     "text": [
      "Computing permutation importance.. Progress: 99%. Estimated remaining time: 0 seconds.\n"
     ]
    },
    {
     "name": "stderr",
     "output_type": "stream",
     "text": [
      " 95. run of importance source...\n",
      "\n",
      " 96. run of importance source...\n",
      "\n",
      " 97. run of importance source...\n",
      "\n",
      " 98. run of importance source...\n",
      "\n",
      " 99. run of importance source...\n",
      "\n",
      "After 99 iterations, +1.4 hours: \n",
      "\n",
      " confirmed 1 attribute: loan_no;\n",
      "\n",
      " still have 8 attributes left.\n",
      "\n",
      "\n"
     ]
    },
    {
     "name": "stdout",
     "output_type": "stream",
     "text": [
      "Boruta performed 99 iterations in 1.369861 hours.\n",
      " 35 attributes confirmed important: age, campaign, cons.conf.idx,\n",
      "cons.price.idx, contact_cellular and 30 more;\n",
      " 29 attributes confirmed unimportant: contact_Missing,\n",
      "day_of_week_Missing, day_of_week_thu, default_Missing, default_yes and\n",
      "24 more;\n",
      " 8 tentative attributes left: day_of_week_tue, day_of_week_wed,\n",
      "education_basic.9y, education_unknown, job_student and 3 more;\n"
     ]
    }
   ],
   "source": [
    "set.seed(111)\n",
    "boruta <- Boruta(subscribe ~ ., data = base_table, doTrace = 2)\n",
    "print(boruta)"
   ]
  },
  {
   "cell_type": "markdown",
   "id": "d1fa345d",
   "metadata": {},
   "source": [
    "##### Plotting Boruta - Initial Analysis"
   ]
  },
  {
   "cell_type": "code",
   "execution_count": 194,
   "id": "122b59cc",
   "metadata": {},
   "outputs": [
    {
     "data": {
      "image/png": "[encoded data removed]",
      "text/plain": [
       "plot without title"
      ]
     },
     "metadata": {
      "image/png": {
       "height": 420,
       "width": 420
      }
     },
     "output_type": "display_data"
    }
   ],
   "source": [
    "plot(boruta, xlab = \"\", xaxt = \"n\")\n",
    "lz<-lapply(1:ncol(boruta$ImpHistory),function(i)\n",
    "boruta$ImpHistory[is.finite(boruta$ImpHistory[,i]),i])\n",
    "names(lz) <- colnames(boruta$ImpHistory)\n",
    "Labels <- sort(sapply(lz,median))\n",
    "axis(side = 1,las=2,labels = names(Labels),\n",
    "at = 1:ncol(boruta$ImpHistory), cex.axis = 0.7)"
   ]
  },
  {
   "cell_type": "markdown",
   "id": "9bc16b7a",
   "metadata": {},
   "source": [
    "##### Further Analysing the tentative variables to select variables"
   ]
  },
  {
   "cell_type": "code",
   "execution_count": 153,
   "id": "a92ea80b",
   "metadata": {},
   "outputs": [
    {
     "name": "stdout",
     "output_type": "stream",
     "text": [
      "Boruta performed 99 iterations in 1.369861 hours.\n",
      "Tentatives roughfixed over the last 99 iterations.\n",
      " 41 attributes confirmed important: age, campaign, cons.conf.idx,\n",
      "cons.price.idx, contact_cellular and 36 more;\n",
      " 31 attributes confirmed unimportant: contact_Missing,\n",
      "day_of_week_Missing, day_of_week_thu, default_Missing, default_yes and\n",
      "26 more;\n"
     ]
    }
   ],
   "source": [
    "final_boruta <- TentativeRoughFix(boruta)\n",
    "print(final_boruta)"
   ]
  },
  {
   "cell_type": "markdown",
   "id": "ed0978c7",
   "metadata": {},
   "source": [
    "##### The final selected variables are"
   ]
  },
  {
   "cell_type": "code",
   "execution_count": 158,
   "id": "321564e5",
   "metadata": {},
   "outputs": [
    {
     "data": {
      "text/html": [
       "<style>\n",
       ".list-inline {list-style: none; margin:0; padding: 0}\n",
       ".list-inline>li {display: inline-block}\n",
       ".list-inline>li:not(:last-child)::after {content: \"\\00b7\"; padding: 0 .5ex}\n",
       "</style>\n",
       "<ol class=list-inline><li>'age'</li><li>'campaign'</li><li>'pdays'</li><li>'previous'</li><li>'emp.var.rate'</li><li>'cons.price.idx'</li><li>'cons.conf.idx'</li><li>'euribor3m'</li><li>'nr.employed'</li><li>'job_blue_collar'</li><li>'job_retired'</li><li>'job_student'</li><li>'job_unknown'</li><li>'marital_married'</li><li>'marital_single'</li><li>'education_university.degree'</li><li>'education_unknown'</li><li>'default_no'</li><li>'default_unknown'</li><li>'housing_no'</li><li>'housing_yes'</li><li>'loan_no'</li><li>'loan_yes'</li><li>'contact_cellular'</li><li>'contact_telephone'</li><li>'month_apr'</li><li>'month_aug'</li><li>'month_jul'</li><li>'month_jun'</li><li>'month_mar'</li><li>'month_may'</li><li>'month_nov'</li><li>'month_oct'</li><li>'month_sep'</li><li>'day_of_week_fri'</li><li>'day_of_week_mon'</li><li>'day_of_week_tue'</li><li>'day_of_week_wed'</li><li>'poutcome_failure'</li><li>'poutcome_nonexistent'</li><li>'poutcome_success'</li></ol>\n"
      ],
      "text/latex": [
       "\\begin{enumerate*}\n",
       "\\item 'age'\n",
       "\\item 'campaign'\n",
       "\\item 'pdays'\n",
       "\\item 'previous'\n",
       "\\item 'emp.var.rate'\n",
       "\\item 'cons.price.idx'\n",
       "\\item 'cons.conf.idx'\n",
       "\\item 'euribor3m'\n",
       "\\item 'nr.employed'\n",
       "\\item 'job\\_blue\\_collar'\n",
       "\\item 'job\\_retired'\n",
       "\\item 'job\\_student'\n",
       "\\item 'job\\_unknown'\n",
       "\\item 'marital\\_married'\n",
       "\\item 'marital\\_single'\n",
       "\\item 'education\\_university.degree'\n",
       "\\item 'education\\_unknown'\n",
       "\\item 'default\\_no'\n",
       "\\item 'default\\_unknown'\n",
       "\\item 'housing\\_no'\n",
       "\\item 'housing\\_yes'\n",
       "\\item 'loan\\_no'\n",
       "\\item 'loan\\_yes'\n",
       "\\item 'contact\\_cellular'\n",
       "\\item 'contact\\_telephone'\n",
       "\\item 'month\\_apr'\n",
       "\\item 'month\\_aug'\n",
       "\\item 'month\\_jul'\n",
       "\\item 'month\\_jun'\n",
       "\\item 'month\\_mar'\n",
       "\\item 'month\\_may'\n",
       "\\item 'month\\_nov'\n",
       "\\item 'month\\_oct'\n",
       "\\item 'month\\_sep'\n",
       "\\item 'day\\_of\\_week\\_fri'\n",
       "\\item 'day\\_of\\_week\\_mon'\n",
       "\\item 'day\\_of\\_week\\_tue'\n",
       "\\item 'day\\_of\\_week\\_wed'\n",
       "\\item 'poutcome\\_failure'\n",
       "\\item 'poutcome\\_nonexistent'\n",
       "\\item 'poutcome\\_success'\n",
       "\\end{enumerate*}\n"
      ],
      "text/markdown": [
       "1. 'age'\n",
       "2. 'campaign'\n",
       "3. 'pdays'\n",
       "4. 'previous'\n",
       "5. 'emp.var.rate'\n",
       "6. 'cons.price.idx'\n",
       "7. 'cons.conf.idx'\n",
       "8. 'euribor3m'\n",
       "9. 'nr.employed'\n",
       "10. 'job_blue_collar'\n",
       "11. 'job_retired'\n",
       "12. 'job_student'\n",
       "13. 'job_unknown'\n",
       "14. 'marital_married'\n",
       "15. 'marital_single'\n",
       "16. 'education_university.degree'\n",
       "17. 'education_unknown'\n",
       "18. 'default_no'\n",
       "19. 'default_unknown'\n",
       "20. 'housing_no'\n",
       "21. 'housing_yes'\n",
       "22. 'loan_no'\n",
       "23. 'loan_yes'\n",
       "24. 'contact_cellular'\n",
       "25. 'contact_telephone'\n",
       "26. 'month_apr'\n",
       "27. 'month_aug'\n",
       "28. 'month_jul'\n",
       "29. 'month_jun'\n",
       "30. 'month_mar'\n",
       "31. 'month_may'\n",
       "32. 'month_nov'\n",
       "33. 'month_oct'\n",
       "34. 'month_sep'\n",
       "35. 'day_of_week_fri'\n",
       "36. 'day_of_week_mon'\n",
       "37. 'day_of_week_tue'\n",
       "38. 'day_of_week_wed'\n",
       "39. 'poutcome_failure'\n",
       "40. 'poutcome_nonexistent'\n",
       "41. 'poutcome_success'\n",
       "\n",
       "\n"
      ],
      "text/plain": [
       " [1] \"age\"                         \"campaign\"                   \n",
       " [3] \"pdays\"                       \"previous\"                   \n",
       " [5] \"emp.var.rate\"                \"cons.price.idx\"             \n",
       " [7] \"cons.conf.idx\"               \"euribor3m\"                  \n",
       " [9] \"nr.employed\"                 \"job_blue_collar\"            \n",
       "[11] \"job_retired\"                 \"job_student\"                \n",
       "[13] \"job_unknown\"                 \"marital_married\"            \n",
       "[15] \"marital_single\"              \"education_university.degree\"\n",
       "[17] \"education_unknown\"           \"default_no\"                 \n",
       "[19] \"default_unknown\"             \"housing_no\"                 \n",
       "[21] \"housing_yes\"                 \"loan_no\"                    \n",
       "[23] \"loan_yes\"                    \"contact_cellular\"           \n",
       "[25] \"contact_telephone\"           \"month_apr\"                  \n",
       "[27] \"month_aug\"                   \"month_jul\"                  \n",
       "[29] \"month_jun\"                   \"month_mar\"                  \n",
       "[31] \"month_may\"                   \"month_nov\"                  \n",
       "[33] \"month_oct\"                   \"month_sep\"                  \n",
       "[35] \"day_of_week_fri\"             \"day_of_week_mon\"            \n",
       "[37] \"day_of_week_tue\"             \"day_of_week_wed\"            \n",
       "[39] \"poutcome_failure\"            \"poutcome_nonexistent\"       \n",
       "[41] \"poutcome_success\"           "
      ]
     },
     "metadata": {},
     "output_type": "display_data"
    }
   ],
   "source": [
    "getSelectedAttributes(final_boruta, withTentative = F)"
   ]
  },
  {
   "cell_type": "markdown",
   "id": "8ca64b65",
   "metadata": {},
   "source": [
    "##### Plotting Boruta - Final selected variables"
   ]
  },
  {
   "cell_type": "code",
   "execution_count": 159,
   "id": "cae6da73",
   "metadata": {},
   "outputs": [
    {
     "data": {
      "image/png": "[encoded data removed]",
      "text/plain": [
       "plot without title"
      ]
     },
     "metadata": {
      "image/png": {
       "height": 420,
       "width": 420
      }
     },
     "output_type": "display_data"
    }
   ],
   "source": [
    "plot(final_boruta, xlab = \"\", xaxt = \"n\")\n",
    "lz<-lapply(1:ncol(final_boruta$ImpHistory),function(i)\n",
    "final_boruta$ImpHistory[is.finite(final_boruta$ImpHistory[,i]),i])\n",
    "names(lz) <- colnames(final_boruta$ImpHistory)\n",
    "Labels <- sort(sapply(lz,median))\n",
    "axis(side = 1,las=2,labels = names(Labels),\n",
    "at = 1:ncol(final_boruta$ImpHistory), cex.axis = 0.7)"
   ]
  },
  {
   "cell_type": "markdown",
   "id": "55df5db2",
   "metadata": {},
   "source": [
    "##### Changing the base table to have only selected variables"
   ]
  },
  {
   "cell_type": "code",
   "execution_count": 195,
   "id": "d9146789",
   "metadata": {},
   "outputs": [],
   "source": [
    "selected = getSelectedAttributes(final_boruta, withTentative = F)\n",
    "target_var = \"subscribe\"\n",
    "selected_columns = c(selected,target_var)\n",
    "new_base_table = subset(base_table,select = names(base_table) %in% selected_columns)"
   ]
  },
  {
   "cell_type": "code",
   "execution_count": 196,
   "id": "d83bcbe2",
   "metadata": {},
   "outputs": [
    {
     "data": {
      "text/html": [
       "<table class=\"dataframe\">\n",
       "<caption>A data.frame: 6 × 42</caption>\n",
       "<thead>\n",
       "\t<tr><th></th><th scope=col>age</th><th scope=col>campaign</th><th scope=col>pdays</th><th scope=col>previous</th><th scope=col>emp.var.rate</th><th scope=col>cons.price.idx</th><th scope=col>cons.conf.idx</th><th scope=col>euribor3m</th><th scope=col>nr.employed</th><th scope=col>subscribe</th><th scope=col>⋯</th><th scope=col>month_nov</th><th scope=col>month_oct</th><th scope=col>month_sep</th><th scope=col>day_of_week_fri</th><th scope=col>day_of_week_mon</th><th scope=col>day_of_week_tue</th><th scope=col>day_of_week_wed</th><th scope=col>poutcome_failure</th><th scope=col>poutcome_nonexistent</th><th scope=col>poutcome_success</th></tr>\n",
       "\t<tr><th></th><th scope=col>&lt;dbl&gt;</th><th scope=col>&lt;dbl&gt;</th><th scope=col>&lt;dbl&gt;</th><th scope=col>&lt;dbl&gt;</th><th scope=col>&lt;dbl&gt;</th><th scope=col>&lt;dbl&gt;</th><th scope=col>&lt;dbl&gt;</th><th scope=col>&lt;dbl&gt;</th><th scope=col>&lt;dbl&gt;</th><th scope=col>&lt;int&gt;</th><th scope=col>⋯</th><th scope=col>&lt;int&gt;</th><th scope=col>&lt;int&gt;</th><th scope=col>&lt;int&gt;</th><th scope=col>&lt;int&gt;</th><th scope=col>&lt;int&gt;</th><th scope=col>&lt;int&gt;</th><th scope=col>&lt;int&gt;</th><th scope=col>&lt;int&gt;</th><th scope=col>&lt;int&gt;</th><th scope=col>&lt;int&gt;</th></tr>\n",
       "</thead>\n",
       "<tbody>\n",
       "\t<tr><th scope=row>1</th><td>42</td><td>1</td><td>999</td><td>0</td><td> 1.4</td><td>93.918</td><td>-42.7</td><td>4.968</td><td>5228.1</td><td>0</td><td>⋯</td><td>0</td><td>0</td><td>0</td><td>0</td><td>0</td><td>0</td><td>0</td><td>0</td><td>1</td><td>0</td></tr>\n",
       "\t<tr><th scope=row>2</th><td>35</td><td>4</td><td>999</td><td>0</td><td> 1.4</td><td>94.465</td><td>-41.8</td><td>4.960</td><td>5228.1</td><td>0</td><td>⋯</td><td>0</td><td>0</td><td>0</td><td>0</td><td>1</td><td>0</td><td>0</td><td>0</td><td>1</td><td>0</td></tr>\n",
       "\t<tr><th scope=row>3</th><td>44</td><td>1</td><td>999</td><td>0</td><td>-1.8</td><td>92.893</td><td>-46.2</td><td>1.264</td><td>5099.1</td><td>0</td><td>⋯</td><td>0</td><td>0</td><td>0</td><td>0</td><td>1</td><td>0</td><td>0</td><td>0</td><td>1</td><td>0</td></tr>\n",
       "\t<tr><th scope=row>4</th><td>45</td><td>1</td><td>999</td><td>0</td><td>-1.8</td><td>93.075</td><td>-47.1</td><td>1.453</td><td>5099.1</td><td>0</td><td>⋯</td><td>0</td><td>0</td><td>0</td><td>0</td><td>0</td><td>1</td><td>0</td><td>0</td><td>1</td><td>0</td></tr>\n",
       "\t<tr><th scope=row>5</th><td>45</td><td>1</td><td>999</td><td>0</td><td> 1.1</td><td>93.994</td><td>-36.4</td><td>4.859</td><td>5191.0</td><td>0</td><td>⋯</td><td>0</td><td>0</td><td>0</td><td>0</td><td>0</td><td>0</td><td>1</td><td>0</td><td>1</td><td>0</td></tr>\n",
       "\t<tr><th scope=row>6</th><td>38</td><td>2</td><td>999</td><td>0</td><td> 1.1</td><td>93.994</td><td>-36.4</td><td>4.858</td><td>5191.0</td><td>0</td><td>⋯</td><td>0</td><td>0</td><td>0</td><td>0</td><td>0</td><td>0</td><td>1</td><td>0</td><td>1</td><td>0</td></tr>\n",
       "</tbody>\n",
       "</table>\n"
      ],
      "text/latex": [
       "A data.frame: 6 × 42\n",
       "\\begin{tabular}{r|lllllllllllllllllllll}\n",
       "  & age & campaign & pdays & previous & emp.var.rate & cons.price.idx & cons.conf.idx & euribor3m & nr.employed & subscribe & ⋯ & month\\_nov & month\\_oct & month\\_sep & day\\_of\\_week\\_fri & day\\_of\\_week\\_mon & day\\_of\\_week\\_tue & day\\_of\\_week\\_wed & poutcome\\_failure & poutcome\\_nonexistent & poutcome\\_success\\\\\n",
       "  & <dbl> & <dbl> & <dbl> & <dbl> & <dbl> & <dbl> & <dbl> & <dbl> & <dbl> & <int> & ⋯ & <int> & <int> & <int> & <int> & <int> & <int> & <int> & <int> & <int> & <int>\\\\\n",
       "\\hline\n",
       "\t1 & 42 & 1 & 999 & 0 &  1.4 & 93.918 & -42.7 & 4.968 & 5228.1 & 0 & ⋯ & 0 & 0 & 0 & 0 & 0 & 0 & 0 & 0 & 1 & 0\\\\\n",
       "\t2 & 35 & 4 & 999 & 0 &  1.4 & 94.465 & -41.8 & 4.960 & 5228.1 & 0 & ⋯ & 0 & 0 & 0 & 0 & 1 & 0 & 0 & 0 & 1 & 0\\\\\n",
       "\t3 & 44 & 1 & 999 & 0 & -1.8 & 92.893 & -46.2 & 1.264 & 5099.1 & 0 & ⋯ & 0 & 0 & 0 & 0 & 1 & 0 & 0 & 0 & 1 & 0\\\\\n",
       "\t4 & 45 & 1 & 999 & 0 & -1.8 & 93.075 & -47.1 & 1.453 & 5099.1 & 0 & ⋯ & 0 & 0 & 0 & 0 & 0 & 1 & 0 & 0 & 1 & 0\\\\\n",
       "\t5 & 45 & 1 & 999 & 0 &  1.1 & 93.994 & -36.4 & 4.859 & 5191.0 & 0 & ⋯ & 0 & 0 & 0 & 0 & 0 & 0 & 1 & 0 & 1 & 0\\\\\n",
       "\t6 & 38 & 2 & 999 & 0 &  1.1 & 93.994 & -36.4 & 4.858 & 5191.0 & 0 & ⋯ & 0 & 0 & 0 & 0 & 0 & 0 & 1 & 0 & 1 & 0\\\\\n",
       "\\end{tabular}\n"
      ],
      "text/markdown": [
       "\n",
       "A data.frame: 6 × 42\n",
       "\n",
       "| <!--/--> | age &lt;dbl&gt; | campaign &lt;dbl&gt; | pdays &lt;dbl&gt; | previous &lt;dbl&gt; | emp.var.rate &lt;dbl&gt; | cons.price.idx &lt;dbl&gt; | cons.conf.idx &lt;dbl&gt; | euribor3m &lt;dbl&gt; | nr.employed &lt;dbl&gt; | subscribe &lt;int&gt; | ⋯ ⋯ | month_nov &lt;int&gt; | month_oct &lt;int&gt; | month_sep &lt;int&gt; | day_of_week_fri &lt;int&gt; | day_of_week_mon &lt;int&gt; | day_of_week_tue &lt;int&gt; | day_of_week_wed &lt;int&gt; | poutcome_failure &lt;int&gt; | poutcome_nonexistent &lt;int&gt; | poutcome_success &lt;int&gt; |\n",
       "|---|---|---|---|---|---|---|---|---|---|---|---|---|---|---|---|---|---|---|---|---|---|\n",
       "| 1 | 42 | 1 | 999 | 0 |  1.4 | 93.918 | -42.7 | 4.968 | 5228.1 | 0 | ⋯ | 0 | 0 | 0 | 0 | 0 | 0 | 0 | 0 | 1 | 0 |\n",
       "| 2 | 35 | 4 | 999 | 0 |  1.4 | 94.465 | -41.8 | 4.960 | 5228.1 | 0 | ⋯ | 0 | 0 | 0 | 0 | 1 | 0 | 0 | 0 | 1 | 0 |\n",
       "| 3 | 44 | 1 | 999 | 0 | -1.8 | 92.893 | -46.2 | 1.264 | 5099.1 | 0 | ⋯ | 0 | 0 | 0 | 0 | 1 | 0 | 0 | 0 | 1 | 0 |\n",
       "| 4 | 45 | 1 | 999 | 0 | -1.8 | 93.075 | -47.1 | 1.453 | 5099.1 | 0 | ⋯ | 0 | 0 | 0 | 0 | 0 | 1 | 0 | 0 | 1 | 0 |\n",
       "| 5 | 45 | 1 | 999 | 0 |  1.1 | 93.994 | -36.4 | 4.859 | 5191.0 | 0 | ⋯ | 0 | 0 | 0 | 0 | 0 | 0 | 1 | 0 | 1 | 0 |\n",
       "| 6 | 38 | 2 | 999 | 0 |  1.1 | 93.994 | -36.4 | 4.858 | 5191.0 | 0 | ⋯ | 0 | 0 | 0 | 0 | 0 | 0 | 1 | 0 | 1 | 0 |\n",
       "\n"
      ],
      "text/plain": [
       "  age campaign pdays previous emp.var.rate cons.price.idx cons.conf.idx\n",
       "1 42  1        999   0         1.4         93.918         -42.7        \n",
       "2 35  4        999   0         1.4         94.465         -41.8        \n",
       "3 44  1        999   0        -1.8         92.893         -46.2        \n",
       "4 45  1        999   0        -1.8         93.075         -47.1        \n",
       "5 45  1        999   0         1.1         93.994         -36.4        \n",
       "6 38  2        999   0         1.1         93.994         -36.4        \n",
       "  euribor3m nr.employed subscribe <U+22EF>        month_nov month_oct month_sep\n",
       "1 4.968     5228.1      0         <U+22EF> 0         0         0        \n",
       "2 4.960     5228.1      0         <U+22EF> 0         0         0        \n",
       "3 1.264     5099.1      0         <U+22EF> 0         0         0        \n",
       "4 1.453     5099.1      0         <U+22EF> 0         0         0        \n",
       "5 4.859     5191.0      0         <U+22EF> 0         0         0        \n",
       "6 4.858     5191.0      0         <U+22EF> 0         0         0        \n",
       "  day_of_week_fri day_of_week_mon day_of_week_tue day_of_week_wed\n",
       "1 0               0               0               0              \n",
       "2 0               1               0               0              \n",
       "3 0               1               0               0              \n",
       "4 0               0               1               0              \n",
       "5 0               0               0               1              \n",
       "6 0               0               0               1              \n",
       "  poutcome_failure poutcome_nonexistent poutcome_success\n",
       "1 0                1                    0               \n",
       "2 0                1                    0               \n",
       "3 0                1                    0               \n",
       "4 0                1                    0               \n",
       "5 0                1                    0               \n",
       "6 0                1                    0               "
      ]
     },
     "metadata": {},
     "output_type": "display_data"
    }
   ],
   "source": [
    "head(new_base_table)"
   ]
  },
  {
   "cell_type": "markdown",
   "id": "cb5f9d9a",
   "metadata": {},
   "source": [
    "# Train Test Split"
   ]
  },
  {
   "cell_type": "code",
   "execution_count": 197,
   "id": "cc371539",
   "metadata": {},
   "outputs": [],
   "source": [
    "split1 = sample(c(rep(0, 0.7 * nrow(new_base_table)), rep(1, 0.3 * nrow(new_base_table))))\n",
    "train <- new_base_table[split1 == 0, ]\n",
    "test <- new_base_table[split1 == 1, ]"
   ]
  },
  {
   "cell_type": "code",
   "execution_count": 294,
   "id": "2aca9133",
   "metadata": {
    "scrolled": true
   },
   "outputs": [
    {
     "data": {
      "text/html": [
       "<style>\n",
       ".list-inline {list-style: none; margin:0; padding: 0}\n",
       ".list-inline>li {display: inline-block}\n",
       ".list-inline>li:not(:last-child)::after {content: \"\\00b7\"; padding: 0 .5ex}\n",
       "</style>\n",
       "<ol class=list-inline><li>14000</li><li>42</li></ol>\n"
      ],
      "text/latex": [
       "\\begin{enumerate*}\n",
       "\\item 14000\n",
       "\\item 42\n",
       "\\end{enumerate*}\n"
      ],
      "text/markdown": [
       "1. 14000\n",
       "2. 42\n",
       "\n",
       "\n"
      ],
      "text/plain": [
       "[1] 14000    42"
      ]
     },
     "metadata": {},
     "output_type": "display_data"
    },
    {
     "data": {
      "text/html": [
       "<style>\n",
       ".list-inline {list-style: none; margin:0; padding: 0}\n",
       ".list-inline>li {display: inline-block}\n",
       ".list-inline>li:not(:last-child)::after {content: \"\\00b7\"; padding: 0 .5ex}\n",
       "</style>\n",
       "<ol class=list-inline><li>6000</li><li>42</li></ol>\n"
      ],
      "text/latex": [
       "\\begin{enumerate*}\n",
       "\\item 6000\n",
       "\\item 42\n",
       "\\end{enumerate*}\n"
      ],
      "text/markdown": [
       "1. 6000\n",
       "2. 42\n",
       "\n",
       "\n"
      ],
      "text/plain": [
       "[1] 6000   42"
      ]
     },
     "metadata": {},
     "output_type": "display_data"
    }
   ],
   "source": [
    "dim(train)\n",
    "dim(test)"
   ]
  },
  {
   "cell_type": "markdown",
   "id": "8842a410",
   "metadata": {},
   "source": [
    "## Logistic Regression"
   ]
  },
  {
   "cell_type": "markdown",
   "id": "67c77c9e",
   "metadata": {},
   "source": [
    "##### Cross-validation and hyperparameter tuning"
   ]
  },
  {
   "cell_type": "code",
   "execution_count": 199,
   "id": "12117674",
   "metadata": {},
   "outputs": [
    {
     "name": "stderr",
     "output_type": "stream",
     "text": [
      "Resampling: cross-validation\n",
      "\n",
      "Measures:             auc.train   auc.test    \n",
      "\n",
      "[Resample] iter 1:    0.7951946   0.6971767   \n",
      "\n",
      "[Resample] iter 2:    0.7953924   0.6786227   \n",
      "\n",
      "[Resample] iter 3:    0.7953772   0.6471354   \n",
      "\n",
      "[Resample] iter 4:    0.7939170   0.8535156   \n",
      "\n",
      "[Resample] iter 5:    0.7936578   0.8436155   \n",
      "\n",
      "[Resample] iter 6:    0.7932840   0.9041579   \n",
      "\n",
      "[Resample] iter 7:    0.7942911   0.7718795   \n",
      "\n",
      "[Resample] iter 8:    0.7933875   0.8375000   \n",
      "\n",
      "[Resample] iter 9:    0.7943891   0.7877604   \n",
      "\n",
      "[Resample] iter 10:   0.7944609   0.7801268   \n",
      "\n",
      "[Resample] iter 11:   0.7954064   0.7137391   \n",
      "\n",
      "[Resample] iter 12:   0.7941300   0.8094758   \n",
      "\n",
      "[Resample] iter 13:   0.7952256   0.7207482   \n",
      "\n",
      "[Resample] iter 14:   0.7942821   0.8004032   \n",
      "\n",
      "[Resample] iter 15:   0.7940600   0.8412698   \n",
      "\n",
      "[Resample] iter 16:   0.7956689   0.6093277   \n",
      "\n",
      "[Resample] iter 17:   0.7945507   0.7580645   \n",
      "\n",
      "[Resample] iter 18:   0.7944297   0.7849788   \n",
      "\n",
      "[Resample] iter 19:   0.7943993   0.7936198   \n",
      "\n",
      "[Resample] iter 20:   0.7937666   0.8869231   \n",
      "\n",
      "[Resample] iter 21:   0.7938984   0.8190518   \n",
      "\n",
      "[Resample] iter 22:   0.7941320   0.8195833   \n",
      "\n",
      "[Resample] iter 23:   0.7934641   0.8392532   \n",
      "\n",
      "[Resample] iter 24:   0.7941694   0.7732174   \n",
      "\n",
      "[Resample] iter 25:   0.7940499   0.8112000   \n",
      "\n",
      "[Resample] iter 26:   0.7943706   0.7692308   \n",
      "\n",
      "[Resample] iter 27:   0.7950988   0.7140870   \n",
      "\n",
      "[Resample] iter 28:   0.7946653   0.7823129   \n",
      "\n",
      "[Resample] iter 29:   0.7946650   0.7352608   \n",
      "\n",
      "[Resample] iter 30:   0.7942978   0.7923177   \n",
      "\n",
      "[Resample] iter 31:   0.7942392   0.7879152   \n",
      "\n",
      "[Resample] iter 32:   0.7935845   0.8399304   \n",
      "\n",
      "[Resample] iter 33:   0.7948474   0.7230726   \n",
      "\n",
      "[Resample] iter 34:   0.7944711   0.7833841   \n",
      "\n",
      "[Resample] iter 35:   0.7928478   0.9501008   \n",
      "\n",
      "[Resample] iter 36:   0.7938271   0.8351457   \n",
      "\n",
      "[Resample] iter 37:   0.7932623   0.8721109   \n",
      "\n",
      "[Resample] iter 38:   0.7942760   0.7787500   \n",
      "\n",
      "[Resample] iter 39:   0.7956534   0.6748992   \n",
      "\n",
      "[Resample] iter 40:   0.7938728   0.8418367   \n",
      "\n",
      "[Resample] iter 41:   0.7950265   0.6679688   \n",
      "\n",
      "[Resample] iter 42:   0.7947966   0.7369792   \n",
      "\n",
      "[Resample] iter 43:   0.7954628   0.6752750   \n",
      "\n",
      "[Resample] iter 44:   0.7940670   0.8437500   \n",
      "\n",
      "[Resample] iter 45:   0.7942592   0.8046559   \n",
      "\n",
      "[Resample] iter 46:   0.7944218   0.7801333   \n",
      "\n",
      "[Resample] iter 47:   0.7933256   0.8551295   \n",
      "\n",
      "[Resample] iter 48:   0.7935915   0.8894558   \n",
      "\n",
      "[Resample] iter 49:   0.7947642   0.7486372   \n",
      "\n",
      "[Resample] iter 50:   0.7944136   0.7631738   \n",
      "\n",
      "[Resample] iter 51:   0.7942454   0.7849788   \n",
      "\n",
      "[Resample] iter 52:   0.7946107   0.7545833   \n",
      "\n",
      "[Resample] iter 53:   0.7936044   0.8659881   \n",
      "\n",
      "[Resample] iter 54:   0.7952107   0.7011000   \n",
      "\n",
      "[Resample] iter 55:   0.7936295   0.8574845   \n",
      "\n",
      "[Resample] iter 56:   0.7944902   0.7831617   \n",
      "\n",
      "[Resample] iter 57:   0.7937187   0.8728044   \n",
      "\n",
      "[Resample] iter 58:   0.7940033   0.8207147   \n",
      "\n",
      "[Resample] iter 59:   0.7939334   0.8253846   \n",
      "\n",
      "[Resample] iter 60:   0.7940985   0.7850435   \n",
      "\n",
      "[Resample] iter 61:   0.7951756   0.7006803   \n",
      "\n",
      "[Resample] iter 62:   0.7946090   0.7386621   \n",
      "\n",
      "[Resample] iter 63:   0.7954795   0.6848816   \n",
      "\n",
      "[Resample] iter 64:   0.7946392   0.7407569   \n",
      "\n",
      "[Resample] iter 65:   0.7943871   0.7868639   \n",
      "\n",
      "[Resample] iter 66:   0.7944096   0.7777105   \n",
      "\n",
      "[Resample] iter 67:   0.7940255   0.8179272   \n",
      "\n",
      "[Resample] iter 68:   0.7935840   0.8679138   \n",
      "\n",
      "[Resample] iter 69:   0.7941663   0.7993197   \n",
      "\n",
      "[Resample] iter 70:   0.7939710   0.7913832   \n",
      "\n",
      "[Resample] iter 71:   0.7943702   0.7768670   \n",
      "\n",
      "[Resample] iter 72:   0.7948735   0.7369680   \n",
      "\n",
      "[Resample] iter 73:   0.7948316   0.7184000   \n",
      "\n",
      "[Resample] iter 74:   0.7934300   0.8847441   \n",
      "\n",
      "[Resample] iter 75:   0.7943071   0.7857646   \n",
      "\n",
      "[Resample] iter 76:   0.7942795   0.7872000   \n",
      "\n",
      "[Resample] iter 77:   0.7940091   0.8473282   \n",
      "\n",
      "[Resample] iter 78:   0.7945657   0.7488662   \n",
      "\n",
      "[Resample] iter 79:   0.7944071   0.7577226   \n",
      "\n",
      "[Resample] iter 80:   0.7946742   0.7152925   \n",
      "\n",
      "[Resample] iter 81:   0.7943142   0.7714026   \n",
      "\n",
      "[Resample] iter 82:   0.7941500   0.8224101   \n",
      "\n",
      "[Resample] iter 83:   0.7943556   0.7576923   \n",
      "\n",
      "[Resample] iter 84:   0.7943101   0.7981771   \n",
      "\n",
      "[Resample] iter 85:   0.7934336   0.8529796   \n",
      "\n",
      "[Resample] iter 86:   0.7942076   0.7823315   \n",
      "\n",
      "[Resample] iter 87:   0.7931672   0.8784153   \n",
      "\n",
      "[Resample] iter 88:   0.7942730   0.7916414   \n",
      "\n",
      "[Resample] iter 89:   0.7941338   0.8029651   \n",
      "\n",
      "[Resample] iter 90:   0.7946787   0.7529167   \n",
      "\n",
      "[Resample] iter 91:   0.7934525   0.8976378   \n",
      "\n",
      "[Resample] iter 92:   0.7947179   0.7499000   \n",
      "\n",
      "[Resample] iter 93:   0.7939146   0.8306452   \n",
      "\n",
      "[Resample] iter 94:   0.7933932   0.8611111   \n",
      "\n",
      "[Resample] iter 95:   0.7938266   0.8192168   \n",
      "\n",
      "[Resample] iter 96:   0.7941888   0.7827869   \n",
      "\n",
      "[Resample] iter 97:   0.7947131   0.7748049   \n",
      "\n",
      "[Resample] iter 98:   0.7942615   0.7920833   \n",
      "\n",
      "[Resample] iter 99:   0.7940813   0.8229333   \n",
      "\n",
      "[Resample] iter 100:  0.7943340   0.7989333   \n",
      "\n",
      "\n",
      "\n",
      "\n",
      "Aggregated Result: auc.test.mean=0.7888534,auc.train.mean=0.7942874\n",
      "\n",
      "\n",
      "\n",
      "\n"
     ]
    }
   ],
   "source": [
    "# Set up cross-validation\n",
    "rdesc = makeResampleDesc(\"CV\", iters=100, predict=\"both\")\n",
    "\n",
    "# Define the model\n",
    "learner <- makeLearner(\"classif.logreg\", predict.type=\"prob\", fix.factors.prediction=T)\n",
    "\n",
    "# Define the task\n",
    "train_task <- makeClassifTask(id=\"credit_mkt\", data=train, target=\"subscribe\")\n",
    "\n",
    "# Set hyper parameter tuning\n",
    "tune_params <- makeParamSet()\n",
    "ctrl = makeTuneControlGrid()\n",
    "\n",
    "# Run the hyper parameter tuning with k-fold CV\n",
    "if (length(tune_params$pars) > 0) {\n",
    "    # Run parameter tuning\n",
    "    res <- tuneParams(learner, task=train_task, resampling=rdesc,\n",
    "                      par.set=tune_params, control=ctrl, measures=list(mlr::auc))\n",
    "    \n",
    "    # Extract best model\n",
    "    best_learner <- res$learner\n",
    "    \n",
    "} else {\n",
    "    # Simple cross-validation\n",
    "    res <- resample(learner, train_task, rdesc, measures=list(mlr::auc, setAggregation(mlr::auc, train.mean)))\n",
    "    \n",
    "    # No parameter for tuning, only 1 best learner\n",
    "    best_learner <- learner\n",
    "}"
   ]
  },
  {
   "cell_type": "markdown",
   "id": "a47a946b",
   "metadata": {},
   "source": [
    "##### Retrain the model with the best hyper-parameters"
   ]
  },
  {
   "cell_type": "code",
   "execution_count": 304,
   "id": "5b3edd14",
   "metadata": {},
   "outputs": [],
   "source": [
    "best_lg <- mlr::train(best_learner, train_task)"
   ]
  },
  {
   "cell_type": "markdown",
   "id": "9a168186",
   "metadata": {},
   "source": [
    "##### Predicting the test data set and finding accuracy, AUC"
   ]
  },
  {
   "cell_type": "code",
   "execution_count": 305,
   "id": "cd2ce71c",
   "metadata": {},
   "outputs": [
    {
     "name": "stderr",
     "output_type": "stream",
     "text": [
      "Setting levels: control = 0, case = 1\n",
      "\n",
      "Setting direction: controls < cases\n",
      "\n"
     ]
    }
   ],
   "source": [
    "# predicting on test\n",
    "\n",
    "pred_lg <- predict(best_lg, newdata=test, type=\"response\")\n",
    "\n",
    "# finding accuracy and AUC\n",
    "\n",
    "lg_accuracy = 100 * mean(pred_lg$data$response==test$subscribe)\n",
    "lg_auc = auc(test$subscribe, pred_lg$data$prob.1)"
   ]
  },
  {
   "cell_type": "markdown",
   "id": "f3a34de3",
   "metadata": {},
   "source": [
    "##### Predicting the train data set and finding accuracy, AUC"
   ]
  },
  {
   "cell_type": "code",
   "execution_count": 306,
   "id": "57b283b3",
   "metadata": {},
   "outputs": [
    {
     "name": "stderr",
     "output_type": "stream",
     "text": [
      "Setting levels: control = 0, case = 1\n",
      "\n",
      "Setting direction: controls < cases\n",
      "\n"
     ]
    }
   ],
   "source": [
    "# predicting on train data\n",
    "\n",
    "pred_lg_train <- predict(best_lg, newdata=train, type=\"response\")\n",
    "\n",
    "# finding accuracy and AUC\n",
    "\n",
    "lg_accuracy_train = 100 * mean(pred_lg_train$data$response==train$subscribe)\n",
    "lg_auc_train = auc(train$subscribe, pred_lg_train$data$prob.1)"
   ]
  },
  {
   "cell_type": "markdown",
   "id": "6192b338",
   "metadata": {},
   "source": [
    "# Decision Trees"
   ]
  },
  {
   "cell_type": "markdown",
   "id": "4b6cf93e",
   "metadata": {},
   "source": [
    "##### cross-validation and hyperparameter tuning"
   ]
  },
  {
   "cell_type": "code",
   "execution_count": 206,
   "id": "eb3d5822",
   "metadata": {},
   "outputs": [
    {
     "name": "stderr",
     "output_type": "stream",
     "text": [
      "[Tune] Started tuning learner classif.rpart for parameter set:\n",
      "\n",
      "             Type len Def            Constr Req Tunable Trafo\n",
      "maxdepth discrete   -   - 2,3,4,5,7,8,10,12   -    TRUE     -\n",
      "minsplit discrete   -   -  5,10,15,20,25,30   -    TRUE     -\n",
      "\n",
      "With control class: TuneControlGrid\n",
      "\n",
      "Imputation value: -0\n",
      "\n",
      "[Tune-x] 1: maxdepth=2; minsplit=5\n",
      "\n",
      "[Tune-y] 1: auc.test.mean=0.7124166; time: 0.1 min\n",
      "\n",
      "[Tune-x] 2: maxdepth=3; minsplit=5\n",
      "\n",
      "[Tune-y] 2: auc.test.mean=0.7124166; time: 0.1 min\n",
      "\n",
      "[Tune-x] 3: maxdepth=4; minsplit=5\n",
      "\n",
      "[Tune-y] 3: auc.test.mean=0.7124166; time: 0.1 min\n",
      "\n",
      "[Tune-x] 4: maxdepth=5; minsplit=5\n",
      "\n",
      "[Tune-y] 4: auc.test.mean=0.7124166; time: 0.1 min\n",
      "\n",
      "[Tune-x] 5: maxdepth=7; minsplit=5\n",
      "\n",
      "[Tune-y] 5: auc.test.mean=0.7124166; time: 0.1 min\n",
      "\n",
      "[Tune-x] 6: maxdepth=8; minsplit=5\n",
      "\n",
      "[Tune-y] 6: auc.test.mean=0.7124166; time: 0.1 min\n",
      "\n",
      "[Tune-x] 7: maxdepth=10; minsplit=5\n",
      "\n",
      "[Tune-y] 7: auc.test.mean=0.7124166; time: 0.1 min\n",
      "\n",
      "[Tune-x] 8: maxdepth=12; minsplit=5\n",
      "\n",
      "[Tune-y] 8: auc.test.mean=0.7124166; time: 0.1 min\n",
      "\n",
      "[Tune-x] 9: maxdepth=2; minsplit=10\n",
      "\n",
      "[Tune-y] 9: auc.test.mean=0.7124166; time: 0.1 min\n",
      "\n",
      "[Tune-x] 10: maxdepth=3; minsplit=10\n",
      "\n",
      "[Tune-y] 10: auc.test.mean=0.7124166; time: 0.1 min\n",
      "\n",
      "[Tune-x] 11: maxdepth=4; minsplit=10\n",
      "\n",
      "[Tune-y] 11: auc.test.mean=0.7124166; time: 0.1 min\n",
      "\n",
      "[Tune-x] 12: maxdepth=5; minsplit=10\n",
      "\n",
      "[Tune-y] 12: auc.test.mean=0.7124166; time: 0.1 min\n",
      "\n",
      "[Tune-x] 13: maxdepth=7; minsplit=10\n",
      "\n",
      "[Tune-y] 13: auc.test.mean=0.7124166; time: 0.1 min\n",
      "\n",
      "[Tune-x] 14: maxdepth=8; minsplit=10\n",
      "\n",
      "[Tune-y] 14: auc.test.mean=0.7124166; time: 0.1 min\n",
      "\n",
      "[Tune-x] 15: maxdepth=10; minsplit=10\n",
      "\n",
      "[Tune-y] 15: auc.test.mean=0.7124166; time: 0.1 min\n",
      "\n",
      "[Tune-x] 16: maxdepth=12; minsplit=10\n",
      "\n",
      "[Tune-y] 16: auc.test.mean=0.7124166; time: 0.1 min\n",
      "\n",
      "[Tune-x] 17: maxdepth=2; minsplit=15\n",
      "\n",
      "[Tune-y] 17: auc.test.mean=0.7124166; time: 0.1 min\n",
      "\n",
      "[Tune-x] 18: maxdepth=3; minsplit=15\n",
      "\n",
      "[Tune-y] 18: auc.test.mean=0.7124166; time: 0.1 min\n",
      "\n",
      "[Tune-x] 19: maxdepth=4; minsplit=15\n",
      "\n",
      "[Tune-y] 19: auc.test.mean=0.7124166; time: 0.1 min\n",
      "\n",
      "[Tune-x] 20: maxdepth=5; minsplit=15\n",
      "\n",
      "[Tune-y] 20: auc.test.mean=0.7124166; time: 0.1 min\n",
      "\n",
      "[Tune-x] 21: maxdepth=7; minsplit=15\n",
      "\n",
      "[Tune-y] 21: auc.test.mean=0.7124166; time: 0.1 min\n",
      "\n",
      "[Tune-x] 22: maxdepth=8; minsplit=15\n",
      "\n",
      "[Tune-y] 22: auc.test.mean=0.7124166; time: 0.1 min\n",
      "\n",
      "[Tune-x] 23: maxdepth=10; minsplit=15\n",
      "\n",
      "[Tune-y] 23: auc.test.mean=0.7124166; time: 0.2 min\n",
      "\n",
      "[Tune-x] 24: maxdepth=12; minsplit=15\n",
      "\n",
      "[Tune-y] 24: auc.test.mean=0.7124166; time: 0.2 min\n",
      "\n",
      "[Tune-x] 25: maxdepth=2; minsplit=20\n",
      "\n",
      "[Tune-y] 25: auc.test.mean=0.7124166; time: 0.1 min\n",
      "\n",
      "[Tune-x] 26: maxdepth=3; minsplit=20\n",
      "\n",
      "[Tune-y] 26: auc.test.mean=0.7124166; time: 0.1 min\n",
      "\n",
      "[Tune-x] 27: maxdepth=4; minsplit=20\n",
      "\n",
      "[Tune-y] 27: auc.test.mean=0.7124166; time: 0.1 min\n",
      "\n",
      "[Tune-x] 28: maxdepth=5; minsplit=20\n",
      "\n",
      "[Tune-y] 28: auc.test.mean=0.7124166; time: 0.1 min\n",
      "\n",
      "[Tune-x] 29: maxdepth=7; minsplit=20\n",
      "\n",
      "[Tune-y] 29: auc.test.mean=0.7124166; time: 0.2 min\n",
      "\n",
      "[Tune-x] 30: maxdepth=8; minsplit=20\n",
      "\n",
      "[Tune-y] 30: auc.test.mean=0.7124166; time: 0.2 min\n",
      "\n",
      "[Tune-x] 31: maxdepth=10; minsplit=20\n",
      "\n",
      "[Tune-y] 31: auc.test.mean=0.7124166; time: 0.2 min\n",
      "\n",
      "[Tune-x] 32: maxdepth=12; minsplit=20\n",
      "\n",
      "[Tune-y] 32: auc.test.mean=0.7124166; time: 0.2 min\n",
      "\n",
      "[Tune-x] 33: maxdepth=2; minsplit=25\n",
      "\n",
      "[Tune-y] 33: auc.test.mean=0.7124166; time: 0.1 min\n",
      "\n",
      "[Tune-x] 34: maxdepth=3; minsplit=25\n",
      "\n",
      "[Tune-y] 34: auc.test.mean=0.7124166; time: 0.1 min\n",
      "\n",
      "[Tune-x] 35: maxdepth=4; minsplit=25\n",
      "\n",
      "[Tune-y] 35: auc.test.mean=0.7124166; time: 0.1 min\n",
      "\n",
      "[Tune-x] 36: maxdepth=5; minsplit=25\n",
      "\n",
      "[Tune-y] 36: auc.test.mean=0.7124166; time: 0.1 min\n",
      "\n",
      "[Tune-x] 37: maxdepth=7; minsplit=25\n",
      "\n",
      "[Tune-y] 37: auc.test.mean=0.7124166; time: 0.1 min\n",
      "\n",
      "[Tune-x] 38: maxdepth=8; minsplit=25\n",
      "\n",
      "[Tune-y] 38: auc.test.mean=0.7124166; time: 0.1 min\n",
      "\n",
      "[Tune-x] 39: maxdepth=10; minsplit=25\n",
      "\n",
      "[Tune-y] 39: auc.test.mean=0.7124166; time: 0.2 min\n",
      "\n",
      "[Tune-x] 40: maxdepth=12; minsplit=25\n",
      "\n",
      "[Tune-y] 40: auc.test.mean=0.7124166; time: 0.2 min\n",
      "\n",
      "[Tune-x] 41: maxdepth=2; minsplit=30\n",
      "\n",
      "[Tune-y] 41: auc.test.mean=0.7124166; time: 0.1 min\n",
      "\n",
      "[Tune-x] 42: maxdepth=3; minsplit=30\n",
      "\n",
      "[Tune-y] 42: auc.test.mean=0.7124166; time: 0.1 min\n",
      "\n",
      "[Tune-x] 43: maxdepth=4; minsplit=30\n",
      "\n",
      "[Tune-y] 43: auc.test.mean=0.7124166; time: 0.1 min\n",
      "\n",
      "[Tune-x] 44: maxdepth=5; minsplit=30\n",
      "\n",
      "[Tune-y] 44: auc.test.mean=0.7124166; time: 0.1 min\n",
      "\n",
      "[Tune-x] 45: maxdepth=7; minsplit=30\n",
      "\n",
      "[Tune-y] 45: auc.test.mean=0.7124166; time: 0.1 min\n",
      "\n",
      "[Tune-x] 46: maxdepth=8; minsplit=30\n",
      "\n",
      "[Tune-y] 46: auc.test.mean=0.7124166; time: 0.1 min\n",
      "\n",
      "[Tune-x] 47: maxdepth=10; minsplit=30\n",
      "\n",
      "[Tune-y] 47: auc.test.mean=0.7124166; time: 0.1 min\n",
      "\n",
      "[Tune-x] 48: maxdepth=12; minsplit=30\n",
      "\n",
      "[Tune-y] 48: auc.test.mean=0.7124166; time: 0.2 min\n",
      "\n",
      "[Tune] Result: maxdepth=5; minsplit=25 : auc.test.mean=0.7124166\n",
      "\n"
     ]
    }
   ],
   "source": [
    "# Set up cross-validation\n",
    "rdesc = makeResampleDesc(\"CV\", iters=30, predict=\"both\")\n",
    "\n",
    "# Define the model\n",
    "learner <- makeLearner(\"classif.rpart\", predict.type=\"prob\", fix.factors.prediction=T)\n",
    "\n",
    "# Define the task\n",
    "train_task <- makeClassifTask(id=\"credit_mkt\", data=train, target=\"subscribe\")\n",
    "\n",
    "# Set hyper parameter tuning\n",
    "tune_params <- makeParamSet(\n",
    "    makeDiscreteParam('maxdepth', value=c(2,3,4,5,7,8,10,12)),\n",
    "    makeDiscreteParam('minsplit', value=c(5,10,15,20,25,30))\n",
    ")\n",
    "ctrl = makeTuneControlGrid()\n",
    "\n",
    "# Run the hyper parameter tuning with k-fold CV\n",
    "if (length(tune_params$pars) > 0) {\n",
    "    # Run parameter tuning\n",
    "    res <- tuneParams(learner, task=train_task, resampling=rdesc,\n",
    "                      par.set=tune_params, control=ctrl, measures=list(mlr::auc))\n",
    "    \n",
    "    # Extract best model\n",
    "    best_learner <- res$learner\n",
    "    \n",
    "} else {\n",
    "    # Simple cross-validation\n",
    "    res <- resample(learner, train_task, rdesc, measures=list(mlr::auc, setAggregation(mlr::auc, train.mean)))\n",
    "    \n",
    "    # No parameter for tuning, only 1 best learner\n",
    "    best_learner <- learner\n",
    "}"
   ]
  },
  {
   "cell_type": "markdown",
   "id": "cc5e14d5",
   "metadata": {},
   "source": [
    "##### Retrain the model with the best hyper-parameters"
   ]
  },
  {
   "cell_type": "code",
   "execution_count": 267,
   "id": "415c7ec8",
   "metadata": {},
   "outputs": [],
   "source": [
    "best_dt <- mlr::train(best_learner, train_task)"
   ]
  },
  {
   "cell_type": "markdown",
   "id": "f4442950",
   "metadata": {},
   "source": [
    "##### Predicting the test data set and finding accuracy, AUC"
   ]
  },
  {
   "cell_type": "code",
   "execution_count": 298,
   "id": "c70440ae",
   "metadata": {},
   "outputs": [
    {
     "name": "stderr",
     "output_type": "stream",
     "text": [
      "Setting levels: control = 0, case = 1\n",
      "\n",
      "Setting direction: controls < cases\n",
      "\n"
     ]
    }
   ],
   "source": [
    "# prediction on test \n",
    "\n",
    "pred_dt <- predict(best_dt, newdata=test)\n",
    "\n",
    "# Finding accuracy and AUC\n",
    "dt_accuracy = 100 * mean(pred_dt$data$response==test$subscribe)\n",
    "dt_auc = auc(test$subscribe, pred_dt$data$prob.1)"
   ]
  },
  {
   "cell_type": "markdown",
   "id": "15efc48b",
   "metadata": {},
   "source": [
    "##### Predicting the train data set and finding accuracy, AUC"
   ]
  },
  {
   "cell_type": "code",
   "execution_count": 299,
   "id": "1ac593ff",
   "metadata": {},
   "outputs": [
    {
     "name": "stderr",
     "output_type": "stream",
     "text": [
      "Setting levels: control = 0, case = 1\n",
      "\n",
      "Setting direction: controls < cases\n",
      "\n"
     ]
    }
   ],
   "source": [
    "# prediction on test \n",
    "pred_dt_train <- predict(best_dt, newdata=train)\n",
    "\n",
    "# Finding accuracy and AUC\n",
    "dt_accuracy_train = 100 * mean(pred_dt_train$data$response==train$subscribe)\n",
    "dt_auc_train = auc(train$subscribe, pred_dt_train$data$prob.1)"
   ]
  },
  {
   "cell_type": "markdown",
   "id": "7414fcc2",
   "metadata": {},
   "source": [
    "## KNN - K-Nearest Neighbors"
   ]
  },
  {
   "cell_type": "markdown",
   "id": "d2f6d938",
   "metadata": {},
   "source": [
    "##### cross-validation and hyperparameter tuning"
   ]
  },
  {
   "cell_type": "code",
   "execution_count": 214,
   "id": "edeff01e",
   "metadata": {},
   "outputs": [
    {
     "name": "stderr",
     "output_type": "stream",
     "text": [
      "[Tune] Started tuning learner classif.kknn for parameter set:\n",
      "\n",
      "      Type len Def                   Constr Req Tunable Trafo\n",
      "k discrete   -   - 1,5,10,20,50,100,200,300   -    TRUE     -\n",
      "\n",
      "With control class: TuneControlGrid\n",
      "\n",
      "Imputation value: -0\n",
      "\n",
      "[Tune-x] 1: k=1\n",
      "\n",
      "[Tune-y] 1: acc.test.mean=0.8442143; time: 0.1 min\n",
      "\n",
      "[Tune-x] 2: k=5\n",
      "\n",
      "[Tune-y] 2: acc.test.mean=0.8441429; time: 0.1 min\n",
      "\n",
      "[Tune-x] 3: k=10\n",
      "\n",
      "[Tune-y] 3: acc.test.mean=0.8872143; time: 0.2 min\n",
      "\n",
      "[Tune-x] 4: k=20\n",
      "\n",
      "[Tune-y] 4: acc.test.mean=0.8945000; time: 0.2 min\n",
      "\n",
      "[Tune-x] 5: k=50\n",
      "\n",
      "[Tune-y] 5: acc.test.mean=0.8966429; time: 0.2 min\n",
      "\n",
      "[Tune-x] 6: k=100\n",
      "\n",
      "[Tune-y] 6: acc.test.mean=0.8971429; time: 0.2 min\n",
      "\n",
      "[Tune-x] 7: k=200\n",
      "\n",
      "[Tune-y] 7: acc.test.mean=0.8969286; time: 0.3 min\n",
      "\n",
      "[Tune-x] 8: k=300\n",
      "\n",
      "[Tune-y] 8: acc.test.mean=0.8964286; time: 0.4 min\n",
      "\n",
      "[Tune] Result: k=100 : acc.test.mean=0.8971429\n",
      "\n"
     ]
    }
   ],
   "source": [
    "# Set up cross-validation\n",
    "rdesc = makeResampleDesc(\"CV\", iters=10)\n",
    "\n",
    "# Define the model\n",
    "lnr_knn <- makeLearner(\"classif.kknn\", predict.type=\"prob\", fix.factors.prediction=T)\n",
    "\n",
    "# Define the task\n",
    "task_logreg <- makeClassifTask(id=\"student\", data=train, target=\"subscribe\")\n",
    "\n",
    "# Set hyper parameter tuning\n",
    "discrete_ps = makeParamSet(\n",
    "  makeDiscreteParam(\"k\", values = c(1, 5, 10, 20, 50, 100, 200, 300))\n",
    ")\n",
    "ctrl = makeTuneControlGrid()\n",
    "\n",
    "# Run the hyper parameter tuning with k-fold CV\n",
    "res <- tuneParams(lnr_knn, task=task_logreg, resampling=rdesc,\n",
    "  par.set=discrete_ps, control=ctrl, measures=list(mlr::acc))"
   ]
  },
  {
   "cell_type": "markdown",
   "id": "d011f897",
   "metadata": {},
   "source": [
    "##### Retrain the model with the best hyper-parameters and Predicting the test data set and finding accuracy, AUC"
   ]
  },
  {
   "cell_type": "code",
   "execution_count": 263,
   "id": "75f9b9b5",
   "metadata": {},
   "outputs": [
    {
     "name": "stderr",
     "output_type": "stream",
     "text": [
      "Setting levels: control = 0, case = 1\n",
      "\n",
      "Setting direction: controls < cases\n",
      "\n"
     ]
    },
    {
     "name": "stdout",
     "output_type": "stream",
     "text": [
      "The Accuracy of KNN is =  90.08333    The AUC of KNN is =  0.806246"
     ]
    }
   ],
   "source": [
    "# predicting test dataset\n",
    "\n",
    "classifier_knn <- knn(train = train,\n",
    "                      test = test,\n",
    "                      cl = train$subscribe,\n",
    "                      k = 100)\n",
    "\n",
    "misClassError <- mean(classifier_knn != test$subscribe)\n",
    "\n",
    "#accuracy\n",
    "accuracy_knn = (1-misClassError)*100\n",
    "\n",
    "# AUC\n",
    "knn_roc = pROC::roc(classifier_knn, test$subscribe)\n",
    "knn_auc = pROC::auc(knn_roc)"
   ]
  },
  {
   "cell_type": "markdown",
   "id": "7e09350b",
   "metadata": {},
   "source": [
    "##### Retrain the model with the best hyper-parameters and Predicting the train data set and finding accuracy, AUC"
   ]
  },
  {
   "cell_type": "code",
   "execution_count": 282,
   "id": "31830ed6",
   "metadata": {},
   "outputs": [
    {
     "name": "stderr",
     "output_type": "stream",
     "text": [
      "Setting levels: control = 0, case = 1\n",
      "\n",
      "Setting direction: controls < cases\n",
      "\n"
     ]
    }
   ],
   "source": [
    "# predicting train dataset\n",
    "\n",
    "classifier_knn_train <- knn(train = train,\n",
    "                      test = train,\n",
    "                      cl = train$subscribe,\n",
    "                      k = 100)\n",
    "\n",
    "misClassError_train <- mean(classifier_knn_train != train$subscribe)\n",
    "\n",
    "#accuracy\n",
    "accuracy_knn_train = (1-misClassError_train)*100\n",
    "\n",
    "#AUC\n",
    "knn_roc_train = pROC::roc(classifier_knn_train, train$subscribe)\n",
    "knn_auc_train = pROC::auc(knn_roc_train)"
   ]
  },
  {
   "cell_type": "markdown",
   "id": "0462b261",
   "metadata": {},
   "source": [
    "## Gradient Boosting"
   ]
  },
  {
   "cell_type": "markdown",
   "id": "5acb0931",
   "metadata": {},
   "source": [
    "##### cross-validation and hyperparameter tuning"
   ]
  },
  {
   "cell_type": "code",
   "execution_count": 176,
   "id": "8dbb561a",
   "metadata": {},
   "outputs": [],
   "source": [
    "# Set up cross-validation\n",
    "rdesc = makeResampleDesc(\"CV\", iters=5, predict=\"both\")\n",
    "\n",
    "# Define the model\n",
    "learner <- makeLearner(\"classif.gbm\", predict.type=\"prob\", fix.factors.prediction=T)\n",
    "\n",
    "# Define the task\n",
    "train_task <- makeClassifTask(id=\"credit_mkt\", data=train, target=\"subscribe\")"
   ]
  },
  {
   "cell_type": "code",
   "execution_count": 177,
   "id": "ec8e12da",
   "metadata": {},
   "outputs": [
    {
     "name": "stderr",
     "output_type": "stream",
     "text": [
      "[Tune] Started tuning learner classif.gbm for parameter set:\n",
      "\n",
      "                      Type len Def                Constr Req Tunable Trafo\n",
      "distribution      discrete   -   -             bernoulli   -    TRUE     -\n",
      "n.trees           discrete   -   - 100,200,500,1000,2000   -    TRUE     -\n",
      "interaction.depth discrete   -   -        15,25,30,40,45   -    TRUE     -\n",
      "train.fraction    discrete   -   -                     1   -    TRUE     -\n",
      "shrinkage         discrete   -   -                 0.001   -    TRUE     -\n",
      "\n",
      "With control class: TuneControlGrid\n",
      "\n",
      "Imputation value: -0\n",
      "\n",
      "[Tune-x] 1: distribution=bernoulli; n.trees=100; interaction.depth=15; train.fraction=1; shrinkage=0.001\n",
      "\n",
      "[Tune-y] 1: auc.test.mean=0.7775641; time: 1.4 min\n",
      "\n",
      "[Tune-x] 2: distribution=bernoulli; n.trees=200; interaction.depth=15; train.fraction=1; shrinkage=0.001\n",
      "\n",
      "[Tune-y] 2: auc.test.mean=0.7787466; time: 2.5 min\n",
      "\n",
      "[Tune-x] 3: distribution=bernoulli; n.trees=500; interaction.depth=15; train.fraction=1; shrinkage=0.001\n",
      "\n",
      "[Tune-y] 3: auc.test.mean=0.7802993; time: 6.1 min\n",
      "\n",
      "[Tune-x] 4: distribution=bernoulli; n.trees=1000; interaction.depth=15; train.fraction=1; shrinkage=0.001\n",
      "\n",
      "[Tune-y] 4: auc.test.mean=0.7812098; time: 12.4 min\n",
      "\n",
      "[Tune-x] 5: distribution=bernoulli; n.trees=2000; interaction.depth=15; train.fraction=1; shrinkage=0.001\n",
      "\n",
      "[Tune-y] 5: auc.test.mean=0.7819341; time: 14.1 min\n",
      "\n",
      "[Tune-x] 6: distribution=bernoulli; n.trees=100; interaction.depth=25; train.fraction=1; shrinkage=0.001\n",
      "\n",
      "[Tune-y] 6: auc.test.mean=0.7809841; time: 0.9 min\n",
      "\n",
      "[Tune-x] 7: distribution=bernoulli; n.trees=200; interaction.depth=25; train.fraction=1; shrinkage=0.001\n",
      "\n",
      "[Tune-y] 7: auc.test.mean=0.7815139; time: 1.9 min\n",
      "\n",
      "[Tune-x] 8: distribution=bernoulli; n.trees=500; interaction.depth=25; train.fraction=1; shrinkage=0.001\n",
      "\n",
      "[Tune-y] 8: auc.test.mean=0.7824803; time: 4.0 min\n",
      "\n",
      "[Tune-x] 9: distribution=bernoulli; n.trees=1000; interaction.depth=25; train.fraction=1; shrinkage=0.001\n",
      "\n",
      "[Tune-y] 9: auc.test.mean=0.7827143; time: 9.0 min\n",
      "\n",
      "[Tune-x] 10: distribution=bernoulli; n.trees=2000; interaction.depth=25; train.fraction=1; shrinkage=0.001\n",
      "\n",
      "[Tune-y] 10: auc.test.mean=0.7833245; time: 16.9 min\n",
      "\n",
      "[Tune-x] 11: distribution=bernoulli; n.trees=100; interaction.depth=30; train.fraction=1; shrinkage=0.001\n",
      "\n",
      "[Tune-y] 11: auc.test.mean=0.7813580; time: 0.9 min\n",
      "\n",
      "[Tune-x] 12: distribution=bernoulli; n.trees=200; interaction.depth=30; train.fraction=1; shrinkage=0.001\n",
      "\n",
      "[Tune-y] 12: auc.test.mean=0.7820097; time: 1.9 min\n",
      "\n",
      "[Tune-x] 13: distribution=bernoulli; n.trees=500; interaction.depth=30; train.fraction=1; shrinkage=0.001\n",
      "\n",
      "[Tune-y] 13: auc.test.mean=0.7827432; time: 4.5 min\n",
      "\n",
      "[Tune-x] 14: distribution=bernoulli; n.trees=1000; interaction.depth=30; train.fraction=1; shrinkage=0.001\n",
      "\n",
      "[Tune-y] 14: auc.test.mean=0.7832345; time: 10.0 min\n",
      "\n",
      "[Tune-x] 15: distribution=bernoulli; n.trees=2000; interaction.depth=30; train.fraction=1; shrinkage=0.001\n",
      "\n",
      "[Tune-y] 15: auc.test.mean=0.7829433; time: 20.9 min\n",
      "\n",
      "[Tune-x] 16: distribution=bernoulli; n.trees=100; interaction.depth=40; train.fraction=1; shrinkage=0.001\n",
      "\n",
      "[Tune-y] 16: auc.test.mean=0.7818964; time: 1.3 min\n",
      "\n",
      "[Tune-x] 17: distribution=bernoulli; n.trees=200; interaction.depth=40; train.fraction=1; shrinkage=0.001\n",
      "\n",
      "[Tune-y] 17: auc.test.mean=0.7818282; time: 2.4 min\n",
      "\n",
      "[Tune-x] 18: distribution=bernoulli; n.trees=500; interaction.depth=40; train.fraction=1; shrinkage=0.001\n",
      "\n",
      "[Tune-y] 18: auc.test.mean=0.7833496; time: 5.9 min\n",
      "\n",
      "[Tune-x] 19: distribution=bernoulli; n.trees=1000; interaction.depth=40; train.fraction=1; shrinkage=0.001\n",
      "\n",
      "[Tune-y] 19: auc.test.mean=0.7835759; time: 13.0 min\n",
      "\n",
      "[Tune-x] 20: distribution=bernoulli; n.trees=2000; interaction.depth=40; train.fraction=1; shrinkage=0.001\n",
      "\n",
      "[Tune-y] 20: auc.test.mean=0.7839241; time: 45.7 min\n",
      "\n",
      "[Tune-x] 21: distribution=bernoulli; n.trees=100; interaction.depth=45; train.fraction=1; shrinkage=0.001\n",
      "\n",
      "[Tune-y] 21: auc.test.mean=0.7819494; time: 3.8 min\n",
      "\n",
      "[Tune-x] 22: distribution=bernoulli; n.trees=200; interaction.depth=45; train.fraction=1; shrinkage=0.001\n",
      "\n",
      "[Tune-y] 22: auc.test.mean=0.7813167; time: 6.2 min\n",
      "\n",
      "[Tune-x] 23: distribution=bernoulli; n.trees=500; interaction.depth=45; train.fraction=1; shrinkage=0.001\n",
      "\n",
      "[Tune-y] 23: auc.test.mean=0.7828946; time: 11.8 min\n",
      "\n",
      "[Tune-x] 24: distribution=bernoulli; n.trees=1000; interaction.depth=45; train.fraction=1; shrinkage=0.001\n",
      "\n",
      "[Tune-y] 24: auc.test.mean=0.7841514; time: 18.8 min\n",
      "\n",
      "[Tune-x] 25: distribution=bernoulli; n.trees=2000; interaction.depth=45; train.fraction=1; shrinkage=0.001\n",
      "\n",
      "[Tune-y] 25: auc.test.mean=0.7837991; time: 34.8 min\n",
      "\n",
      "[Tune] Result: distribution=bernoulli; n.trees=1000; interaction.depth=45; train.fraction=1; shrinkage=0.001 : auc.test.mean=0.7841514\n",
      "\n"
     ]
    }
   ],
   "source": [
    "# Set hyper parameter tuning\n",
    "tune_params <- makeParamSet(\n",
    "    makeDiscreteParam('distribution', value=c('bernoulli')),\n",
    "    makeDiscreteParam('n.trees', value=c(100,200,500,1000,2000)),\n",
    "    makeDiscreteParam('interaction.depth', value=c(15,25,30,40,45)),\n",
    "    makeDiscreteParam('train.fraction', values =c(1)),\n",
    "    makeDiscreteParam('shrinkage', values = (0.001))      \n",
    ")\n",
    "\n",
    "ctrl = makeTuneControlGrid()\n",
    "\n",
    "# Run the hyper parameter tuning with k-fold CV\n",
    "if (length(tune_params$pars) > 0) {\n",
    "    # Run parameter tuning\n",
    "    res <- tuneParams(learner, task=train_task, resampling=rdesc,\n",
    "                      par.set=tune_params, control=ctrl, measures=list(mlr::auc))\n",
    "    \n",
    "    # Extract best model\n",
    "    best_learner <- res$learner\n",
    "    \n",
    "} else {\n",
    "    # Simple cross-validation\n",
    "    res <- resample(learner, train_task, rdesc, measures=list(mlr::auc, setAggregation(mlr::auc, train.mean)))\n",
    "    \n",
    "    # No parameter for tuning, only 1 best learner\n",
    "    best_learner <- learner\n",
    "}"
   ]
  },
  {
   "cell_type": "markdown",
   "id": "ed414e75",
   "metadata": {},
   "source": [
    "##### Retrain the model with the best hyper-parameters and Predicting the test"
   ]
  },
  {
   "cell_type": "code",
   "execution_count": 283,
   "id": "3fde0dee",
   "metadata": {},
   "outputs": [],
   "source": [
    "# Retrain the model with tbe best hyper-parameters\n",
    "\n",
    "best_gb <- mlr::train(best_learner, train_task)"
   ]
  },
  {
   "cell_type": "markdown",
   "id": "14a4f534",
   "metadata": {},
   "source": [
    "##### Prediction using the test dataset and finding accuracy, AUC"
   ]
  },
  {
   "cell_type": "code",
   "execution_count": null,
   "id": "3fe77ed8",
   "metadata": {},
   "outputs": [],
   "source": [
    "pred_gb <- predict(best_gb, newdata=test)\n",
    "\n",
    "# finding accuracy,auc in test set\n",
    "\n",
    "gb_accuracy = 100*mean(pred_gb$data$response==test$subscribe)\n",
    "gb_auc = auc(test$subscribe, pred_gb$data$prob.1)"
   ]
  },
  {
   "cell_type": "markdown",
   "id": "3b203485",
   "metadata": {},
   "source": [
    "##### Prediction using the train dataset and finding accuracy, AUC"
   ]
  },
  {
   "cell_type": "code",
   "execution_count": 284,
   "id": "7f48f9f5",
   "metadata": {},
   "outputs": [
    {
     "name": "stderr",
     "output_type": "stream",
     "text": [
      "Setting levels: control = 0, case = 1\n",
      "\n",
      "Setting direction: controls < cases\n",
      "\n",
      "Setting levels: control = 0, case = 1\n",
      "\n",
      "Setting direction: controls < cases\n",
      "\n"
     ]
    }
   ],
   "source": [
    "pred_gb_train <- predict(best_gb, newdata=train)\n",
    "\n",
    "# finding accuracy in train set\n",
    "\n",
    "gb_accuracy_train = 100*mean(pred_gb_train$data$response==train$subscribe)\n",
    "gb_auc_train = auc(train$subscribe, pred_gb_train$data$prob.1)"
   ]
  },
  {
   "cell_type": "markdown",
   "id": "7aa9684d",
   "metadata": {},
   "source": [
    "# Support Vector Machines"
   ]
  },
  {
   "cell_type": "markdown",
   "id": "844d01f8",
   "metadata": {},
   "source": [
    "##### cross-validation and hyperparameter tuning"
   ]
  },
  {
   "cell_type": "code",
   "execution_count": 216,
   "id": "3234bbbe",
   "metadata": {},
   "outputs": [
    {
     "name": "stderr",
     "output_type": "stream",
     "text": [
      "Resampling: cross-validation\n",
      "\n",
      "Measures:             auc.train   auc.test    \n",
      "\n",
      "[Resample] iter 1:    0.8814135   0.7128714   \n",
      "\n",
      "[Resample] iter 2:    0.8826383   0.7047373   \n",
      "\n",
      "[Resample] iter 3:    0.8811591   0.7416554   \n",
      "\n",
      "[Resample] iter 4:    0.8860257   0.6658158   \n",
      "\n",
      "[Resample] iter 5:    0.8889232   0.7264485   \n",
      "\n",
      "[Resample] iter 6:    0.8810715   0.7422477   \n",
      "\n",
      "[Resample] iter 7:    0.8809950   0.6857638   \n",
      "\n",
      "[Resample] iter 8:    0.8857649   0.7134133   \n",
      "\n",
      "[Resample] iter 9:    0.8833118   0.7272682   \n",
      "\n",
      "[Resample] iter 10:   0.8864066   0.6706928   \n",
      "\n",
      "\n",
      "\n",
      "\n",
      "Aggregated Result: auc.test.mean=0.7090914,auc.train.mean=0.8837710\n",
      "\n",
      "\n",
      "\n",
      "\n"
     ]
    }
   ],
   "source": [
    "# Set up cross-validation\n",
    "rdesc = makeResampleDesc(\"CV\", iters=10, predict=\"both\")\n",
    "\n",
    "# Define the model\n",
    "learner <- makeLearner(\"classif.ksvm\", predict.type=\"prob\", fix.factors.prediction=T)\n",
    "\n",
    "# Define the task\n",
    "train_task <- makeClassifTask(id=\"credit_mkt\", data=train, target=\"subscribe\")\n",
    "\n",
    "# Set hyper parameter tuning\n",
    "tune_params <- makeParamSet()\n",
    "ctrl = makeTuneControlGrid()\n",
    "\n",
    "# Run the hyper parameter tuning with k-fold CV\n",
    "if (length(tune_params$pars) > 0) {\n",
    "    # Run parameter tuning\n",
    "    res <- tuneParams(learner, task=train_task, resampling=rdesc,\n",
    "                      par.set=tune_params, control=ctrl, measures=list(mlr::auc))\n",
    "    \n",
    "    # Extract best model\n",
    "    best_learner <- res$learner\n",
    "    \n",
    "} else {\n",
    "    # Simple cross-validation\n",
    "    res <- resample(learner, train_task, rdesc, measures=list(mlr::auc, setAggregation(mlr::auc, train.mean)))\n",
    "    \n",
    "    # No parameter for tuning, only 1 best learner\n",
    "    best_learner <- learner\n",
    "}"
   ]
  },
  {
   "cell_type": "markdown",
   "id": "2da79634",
   "metadata": {},
   "source": [
    "##### Training the model with svm"
   ]
  },
  {
   "cell_type": "code",
   "execution_count": 217,
   "id": "dbb85efe",
   "metadata": {},
   "outputs": [],
   "source": [
    "library(e1071)\n",
    "classifier = svm(formula = subscribe ~ .,\n",
    "                 data = train,\n",
    "                 type = 'C-classification',\n",
    "                 kernel = 'linear')"
   ]
  },
  {
   "cell_type": "markdown",
   "id": "35fa5b13",
   "metadata": {},
   "source": [
    "##### Prediction using the test dataset and finding accuracy, AUC"
   ]
  },
  {
   "cell_type": "code",
   "execution_count": 297,
   "id": "e9eff3a5",
   "metadata": {},
   "outputs": [
    {
     "name": "stderr",
     "output_type": "stream",
     "text": [
      "Setting levels: control = 0, case = 1\n",
      "\n",
      "Setting direction: controls < cases\n",
      "\n"
     ]
    }
   ],
   "source": [
    "svm_pred = predict(classifier, newdata = test)\n",
    "svm_accuracy = 100*mean(svm_pred==test$subscribe)\n",
    "\n",
    "svm_roc = pROC::roc(svm_pred, test$subscribe)\n",
    "svm_auc = pROC::auc(svm_roc)"
   ]
  },
  {
   "cell_type": "markdown",
   "id": "82d32b26",
   "metadata": {},
   "source": [
    "##### Prediction using the Train dataset and finding accuracy, AUC"
   ]
  },
  {
   "cell_type": "code",
   "execution_count": 296,
   "id": "cbb649f8",
   "metadata": {},
   "outputs": [
    {
     "name": "stderr",
     "output_type": "stream",
     "text": [
      "Setting levels: control = 0, case = 1\n",
      "\n",
      "Setting direction: controls < cases\n",
      "\n"
     ]
    }
   ],
   "source": [
    "svm_pred_train = predict(classifier, newdata = train)\n",
    "svm_accuracy_train = 100*mean(svm_pred_train==train$subscribe)\n",
    "\n",
    "svm_roc_train = pROC::roc(svm_pred_train, train$subscribe)\n",
    "svm_auc_train = pROC::auc(svm_roc_train)"
   ]
  },
  {
   "cell_type": "markdown",
   "id": "82e33893",
   "metadata": {},
   "source": [
    "### Comparing the accuracy and AUC"
   ]
  },
  {
   "cell_type": "markdown",
   "id": "6bd0d46e",
   "metadata": {},
   "source": [
    "##### Prediction made using the test dataset"
   ]
  },
  {
   "cell_type": "code",
   "execution_count": 302,
   "id": "a4329d24",
   "metadata": {},
   "outputs": [
    {
     "data": {
      "text/html": [
       "<table class=\"dataframe\">\n",
       "<caption>A data.frame: 5 × 3</caption>\n",
       "<thead>\n",
       "\t<tr><th scope=col>Models</th><th scope=col>Accuracy_in_perct_test</th><th scope=col>AUC_scores_test</th></tr>\n",
       "\t<tr><th scope=col>&lt;chr&gt;</th><th scope=col>&lt;dbl&gt;</th><th scope=col>&lt;dbl&gt;</th></tr>\n",
       "</thead>\n",
       "<tbody>\n",
       "\t<tr><td>Logistic Regression    </td><td>90.16667</td><td>0.6997270</td></tr>\n",
       "\t<tr><td>Decision Trees         </td><td>90.15000</td><td>0.6995627</td></tr>\n",
       "\t<tr><td>K-Nearest Neighbors    </td><td>90.08333</td><td>0.8062460</td></tr>\n",
       "\t<tr><td>Gradient Boosting      </td><td>90.18333</td><td>0.6997898</td></tr>\n",
       "\t<tr><td>Support Vector Machines</td><td>89.93333</td><td>0.7843380</td></tr>\n",
       "</tbody>\n",
       "</table>\n"
      ],
      "text/latex": [
       "A data.frame: 5 × 3\n",
       "\\begin{tabular}{lll}\n",
       " Models & Accuracy\\_in\\_perct\\_test & AUC\\_scores\\_test\\\\\n",
       " <chr> & <dbl> & <dbl>\\\\\n",
       "\\hline\n",
       "\t Logistic Regression     & 90.16667 & 0.6997270\\\\\n",
       "\t Decision Trees          & 90.15000 & 0.6995627\\\\\n",
       "\t K-Nearest Neighbors     & 90.08333 & 0.8062460\\\\\n",
       "\t Gradient Boosting       & 90.18333 & 0.6997898\\\\\n",
       "\t Support Vector Machines & 89.93333 & 0.7843380\\\\\n",
       "\\end{tabular}\n"
      ],
      "text/markdown": [
       "\n",
       "A data.frame: 5 × 3\n",
       "\n",
       "| Models &lt;chr&gt; | Accuracy_in_perct_test &lt;dbl&gt; | AUC_scores_test &lt;dbl&gt; |\n",
       "|---|---|---|\n",
       "| Logistic Regression     | 90.16667 | 0.6997270 |\n",
       "| Decision Trees          | 90.15000 | 0.6995627 |\n",
       "| K-Nearest Neighbors     | 90.08333 | 0.8062460 |\n",
       "| Gradient Boosting       | 90.18333 | 0.6997898 |\n",
       "| Support Vector Machines | 89.93333 | 0.7843380 |\n",
       "\n"
      ],
      "text/plain": [
       "  Models                  Accuracy_in_perct_test AUC_scores_test\n",
       "1 Logistic Regression     90.16667               0.6997270      \n",
       "2 Decision Trees          90.15000               0.6995627      \n",
       "3 K-Nearest Neighbors     90.08333               0.8062460      \n",
       "4 Gradient Boosting       90.18333               0.6997898      \n",
       "5 Support Vector Machines 89.93333               0.7843380      "
      ]
     },
     "metadata": {},
     "output_type": "display_data"
    }
   ],
   "source": [
    "Models = c(\"Logistic Regression\", \"Decision Trees\", \"K-Nearest Neighbors\", \"Gradient Boosting\", \"Support Vector Machines\")\n",
    "Accuracy_in_perct_test = c(lg_accuracy, dt_accuracy, accuracy_knn, gb_accuracy, svm_accuracy)\n",
    "AUC_scores_test = c(lg_auc, dt_auc, knn_auc, gb_auc, svm_auc)\n",
    "\n",
    "Benchmark_test = data.frame(Models, Accuracy_in_perct_test,AUC_scores_test)\n",
    "\n",
    "Benchmark_test"
   ]
  },
  {
   "cell_type": "markdown",
   "id": "fdabc95b",
   "metadata": {},
   "source": [
    "##### Prediction made using the train dataset"
   ]
  },
  {
   "cell_type": "code",
   "execution_count": 303,
   "id": "c891d869",
   "metadata": {},
   "outputs": [
    {
     "data": {
      "text/html": [
       "<table class=\"dataframe\">\n",
       "<caption>A data.frame: 5 × 3</caption>\n",
       "<thead>\n",
       "\t<tr><th scope=col>Models</th><th scope=col>Accuracy_in_perct_train</th><th scope=col>AUC_scores_train</th></tr>\n",
       "\t<tr><th scope=col>&lt;chr&gt;</th><th scope=col>&lt;dbl&gt;</th><th scope=col>&lt;dbl&gt;</th></tr>\n",
       "</thead>\n",
       "<tbody>\n",
       "\t<tr><td>Logistic Regression    </td><td>90.46429</td><td>0.8794195</td></tr>\n",
       "\t<tr><td>Decision Trees         </td><td>90.45714</td><td>0.8796736</td></tr>\n",
       "\t<tr><td>K-Nearest Neighbors    </td><td>89.93571</td><td>0.8067439</td></tr>\n",
       "\t<tr><td>Gradient Boosting      </td><td>90.45000</td><td>0.8804134</td></tr>\n",
       "\t<tr><td>Support Vector Machines</td><td>89.64286</td><td>0.7798907</td></tr>\n",
       "</tbody>\n",
       "</table>\n"
      ],
      "text/latex": [
       "A data.frame: 5 × 3\n",
       "\\begin{tabular}{lll}\n",
       " Models & Accuracy\\_in\\_perct\\_train & AUC\\_scores\\_train\\\\\n",
       " <chr> & <dbl> & <dbl>\\\\\n",
       "\\hline\n",
       "\t Logistic Regression     & 90.46429 & 0.8794195\\\\\n",
       "\t Decision Trees          & 90.45714 & 0.8796736\\\\\n",
       "\t K-Nearest Neighbors     & 89.93571 & 0.8067439\\\\\n",
       "\t Gradient Boosting       & 90.45000 & 0.8804134\\\\\n",
       "\t Support Vector Machines & 89.64286 & 0.7798907\\\\\n",
       "\\end{tabular}\n"
      ],
      "text/markdown": [
       "\n",
       "A data.frame: 5 × 3\n",
       "\n",
       "| Models &lt;chr&gt; | Accuracy_in_perct_train &lt;dbl&gt; | AUC_scores_train &lt;dbl&gt; |\n",
       "|---|---|---|\n",
       "| Logistic Regression     | 90.46429 | 0.8794195 |\n",
       "| Decision Trees          | 90.45714 | 0.8796736 |\n",
       "| K-Nearest Neighbors     | 89.93571 | 0.8067439 |\n",
       "| Gradient Boosting       | 90.45000 | 0.8804134 |\n",
       "| Support Vector Machines | 89.64286 | 0.7798907 |\n",
       "\n"
      ],
      "text/plain": [
       "  Models                  Accuracy_in_perct_train AUC_scores_train\n",
       "1 Logistic Regression     90.46429                0.8794195       \n",
       "2 Decision Trees          90.45714                0.8796736       \n",
       "3 K-Nearest Neighbors     89.93571                0.8067439       \n",
       "4 Gradient Boosting       90.45000                0.8804134       \n",
       "5 Support Vector Machines 89.64286                0.7798907       "
      ]
     },
     "metadata": {},
     "output_type": "display_data"
    }
   ],
   "source": [
    "Models = c(\"Logistic Regression\", \"Decision Trees\", \"K-Nearest Neighbors\", \"Gradient Boosting\", \"Support Vector Machines\")\n",
    "Accuracy_in_perct_train = c(lg_accuracy_train, dt_accuracy_train, accuracy_knn_train, gb_accuracy_train, svm_accuracy_train)\n",
    "AUC_scores_train = c(lg_auc_train, dt_auc_train, knn_auc_train, gb_auc_train, svm_auc_train)\n",
    "\n",
    "Benchmark_train = data.frame(Models, Accuracy_in_perct_train,AUC_scores_train)\n",
    "\n",
    "Benchmark_train"
   ]
  },
  {
   "cell_type": "markdown",
   "id": "09ed8f2f",
   "metadata": {},
   "source": [
    "## References"
   ]
  },
  {
   "cell_type": "markdown",
   "id": "d3a44aff",
   "metadata": {},
   "source": [
    "1.\thttps://www.analyticsvidhya.com/blog/2016/03/select-important-variables-boruta-package/\n",
    "2.\thttps://cran.r-project.org/web/packages/Boruta/Boruta.pdf\n"
   ]
  }
 ],
 "metadata": {
  "kernelspec": {
   "display_name": "R",
   "language": "R",
   "name": "ir"
  },
  "language_info": {
   "codemirror_mode": "r",
   "file_extension": ".r",
   "mimetype": "text/x-r-source",
   "name": "R",
   "pygments_lexer": "r",
   "version": "4.0.5"
  }
 },
 "nbformat": 4,
 "nbformat_minor": 5
}
